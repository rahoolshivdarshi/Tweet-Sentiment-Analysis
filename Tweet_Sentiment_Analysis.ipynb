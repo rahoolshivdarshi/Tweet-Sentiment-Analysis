{
 "cells": [
  {
   "cell_type": "markdown",
   "metadata": {
    "colab_type": "text",
    "id": "FU-HwvIdH0M-"
   },
   "source": [
    "## Sentiment analysis <br> \n",
    "\n",
    "The objective of the problem is to perform Sentiment analysis from the tweets data collected from the users targeted at various mobile devices.\n",
    "Based on the tweet posted by a user (text), we will classify if the sentiment of the user targeted at a particular mobile device is positive or not."
   ]
  },
  {
   "cell_type": "markdown",
   "metadata": {
    "colab_type": "text",
    "id": "nAQDiZHRH0M_"
   },
   "source": [
    "### 1. Read the dataset (tweets.csv) and drop the NA's while reading the dataset"
   ]
  },
  {
   "cell_type": "code",
   "execution_count": 1,
   "metadata": {},
   "outputs": [],
   "source": [
    "import pandas as pd"
   ]
  },
  {
   "cell_type": "code",
   "execution_count": 2,
   "metadata": {
    "colab": {},
    "colab_type": "code",
    "id": "3eXGIe-SH0NA"
   },
   "outputs": [],
   "source": [
    "tweets = pd.read_csv(\"tweets.csv\", encoding=\"Unicode_escape\")"
   ]
  },
  {
   "cell_type": "code",
   "execution_count": 3,
   "metadata": {},
   "outputs": [
    {
     "data": {
      "text/html": [
       "<div>\n",
       "<style scoped>\n",
       "    .dataframe tbody tr th:only-of-type {\n",
       "        vertical-align: middle;\n",
       "    }\n",
       "\n",
       "    .dataframe tbody tr th {\n",
       "        vertical-align: top;\n",
       "    }\n",
       "\n",
       "    .dataframe thead th {\n",
       "        text-align: right;\n",
       "    }\n",
       "</style>\n",
       "<table border=\"1\" class=\"dataframe\">\n",
       "  <thead>\n",
       "    <tr style=\"text-align: right;\">\n",
       "      <th></th>\n",
       "      <th>tweet_text</th>\n",
       "      <th>emotion_in_tweet_is_directed_at</th>\n",
       "      <th>is_there_an_emotion_directed_at_a_brand_or_product</th>\n",
       "    </tr>\n",
       "  </thead>\n",
       "  <tbody>\n",
       "    <tr>\n",
       "      <th>0</th>\n",
       "      <td>.@wesley83 I have a 3G iPhone. After 3 hrs twe...</td>\n",
       "      <td>iPhone</td>\n",
       "      <td>Negative emotion</td>\n",
       "    </tr>\n",
       "    <tr>\n",
       "      <th>1</th>\n",
       "      <td>@jessedee Know about @fludapp ? Awesome iPad/i...</td>\n",
       "      <td>iPad or iPhone App</td>\n",
       "      <td>Positive emotion</td>\n",
       "    </tr>\n",
       "  </tbody>\n",
       "</table>\n",
       "</div>"
      ],
      "text/plain": [
       "                                          tweet_text  \\\n",
       "0  .@wesley83 I have a 3G iPhone. After 3 hrs twe...   \n",
       "1  @jessedee Know about @fludapp ? Awesome iPad/i...   \n",
       "\n",
       "  emotion_in_tweet_is_directed_at  \\\n",
       "0                          iPhone   \n",
       "1              iPad or iPhone App   \n",
       "\n",
       "  is_there_an_emotion_directed_at_a_brand_or_product  \n",
       "0                                   Negative emotion  \n",
       "1                                   Positive emotion  "
      ]
     },
     "execution_count": 3,
     "metadata": {},
     "output_type": "execute_result"
    }
   ],
   "source": [
    "tweets.head(2)"
   ]
  },
  {
   "cell_type": "code",
   "execution_count": 4,
   "metadata": {},
   "outputs": [
    {
     "data": {
      "text/plain": [
       "(9092, 3)"
      ]
     },
     "execution_count": 4,
     "metadata": {},
     "output_type": "execute_result"
    }
   ],
   "source": [
    "tweets.shape"
   ]
  },
  {
   "cell_type": "code",
   "execution_count": 5,
   "metadata": {},
   "outputs": [],
   "source": [
    "df_tweets = tweets.dropna(subset = [\"tweet_text\"])"
   ]
  },
  {
   "cell_type": "code",
   "execution_count": 6,
   "metadata": {},
   "outputs": [
    {
     "data": {
      "text/plain": [
       "(9092, 3)"
      ]
     },
     "execution_count": 6,
     "metadata": {},
     "output_type": "execute_result"
    }
   ],
   "source": [
    "df_tweets.shape"
   ]
  },
  {
   "cell_type": "code",
   "execution_count": 7,
   "metadata": {},
   "outputs": [
    {
     "data": {
      "text/html": [
       "<div>\n",
       "<style scoped>\n",
       "    .dataframe tbody tr th:only-of-type {\n",
       "        vertical-align: middle;\n",
       "    }\n",
       "\n",
       "    .dataframe tbody tr th {\n",
       "        vertical-align: top;\n",
       "    }\n",
       "\n",
       "    .dataframe thead th {\n",
       "        text-align: right;\n",
       "    }\n",
       "</style>\n",
       "<table border=\"1\" class=\"dataframe\">\n",
       "  <thead>\n",
       "    <tr style=\"text-align: right;\">\n",
       "      <th></th>\n",
       "      <th>tweet_text</th>\n",
       "      <th>emotion_in_tweet_is_directed_at</th>\n",
       "      <th>is_there_an_emotion_directed_at_a_brand_or_product</th>\n",
       "    </tr>\n",
       "  </thead>\n",
       "  <tbody>\n",
       "    <tr>\n",
       "      <th>0</th>\n",
       "      <td>.@wesley83 I have a 3G iPhone. After 3 hrs twe...</td>\n",
       "      <td>iPhone</td>\n",
       "      <td>Negative emotion</td>\n",
       "    </tr>\n",
       "    <tr>\n",
       "      <th>1</th>\n",
       "      <td>@jessedee Know about @fludapp ? Awesome iPad/i...</td>\n",
       "      <td>iPad or iPhone App</td>\n",
       "      <td>Positive emotion</td>\n",
       "    </tr>\n",
       "  </tbody>\n",
       "</table>\n",
       "</div>"
      ],
      "text/plain": [
       "                                          tweet_text  \\\n",
       "0  .@wesley83 I have a 3G iPhone. After 3 hrs twe...   \n",
       "1  @jessedee Know about @fludapp ? Awesome iPad/i...   \n",
       "\n",
       "  emotion_in_tweet_is_directed_at  \\\n",
       "0                          iPhone   \n",
       "1              iPad or iPhone App   \n",
       "\n",
       "  is_there_an_emotion_directed_at_a_brand_or_product  \n",
       "0                                   Negative emotion  \n",
       "1                                   Positive emotion  "
      ]
     },
     "execution_count": 7,
     "metadata": {},
     "output_type": "execute_result"
    }
   ],
   "source": [
    "df_tweets.head(2)"
   ]
  },
  {
   "cell_type": "markdown",
   "metadata": {
    "colab_type": "text",
    "id": "jPJvTjefH0NI"
   },
   "source": [
    "### 2. Preprocess the text and add the preprocessed text in a column with name `text` in the dataframe."
   ]
  },
  {
   "cell_type": "code",
   "execution_count": 8,
   "metadata": {
    "colab": {},
    "colab_type": "code",
    "id": "5iec5s9gH0NI"
   },
   "outputs": [],
   "source": [
    "def preprocess(text):\n",
    "    try:\n",
    "        return text.decode('ascii')\n",
    "    except Exception as e:\n",
    "        return \"\""
   ]
  },
  {
   "cell_type": "code",
   "execution_count": 9,
   "metadata": {},
   "outputs": [],
   "source": [
    "from nltk.tokenize.toktok import ToktokTokenizer\n",
    "import nltk\n",
    "import re\n",
    "import unicodedata\n",
    "from nltk.stem.porter import PorterStemmer\n",
    "\n",
    "tokenizer = ToktokTokenizer()\n",
    "stopword_list = nltk.corpus.stopwords.words('english')\n",
    "\n",
    "def remove_special_characters(text, remove_digits=False):\n",
    "    pattern = r'[^a-zA-z0-9\\s]' if not remove_digits else r'[^a-zA-z\\s]'\n",
    "    text = re.sub(pattern, '', text)\n",
    "    return text\n",
    "\n",
    "def to_lower_case(text):\n",
    "    return text.lower()\n",
    "\n",
    "def remove_accented_chars(text):\n",
    "    text = unicodedata.normalize('NFKD', text).encode('ascii', 'ignore').decode('utf-8', 'ignore')\n",
    "    return text\n",
    "\n",
    "def remove_stopwords(text, is_lower_case=False):\n",
    "    tokens = tokenizer.tokenize(text)\n",
    "    tokens = [token.strip() for token in tokens]\n",
    "    if is_lower_case:\n",
    "        filtered_tokens = [token for token in tokens if token not in stopword_list and '@' not in token]\n",
    "    else:\n",
    "        filtered_tokens = [token for token in tokens if token.lower() not in stopword_list and '@' not in token]\n",
    "    filtered_text = ' '.join(filtered_tokens)    \n",
    "    return filtered_text\n"
   ]
  },
  {
   "cell_type": "code",
   "execution_count": 10,
   "metadata": {},
   "outputs": [],
   "source": [
    "df_tweets['text'] = [to_lower_case(text) for text in df_tweets.tweet_text]\n",
    "df_tweets['text'] = [remove_special_characters(text) for text in df_tweets.tweet_text]\n",
    "df_tweets['text'] = [remove_accented_chars(text) for text in df_tweets.tweet_text]\n",
    "df_tweets['text'] = [remove_stopwords(text) for text in df_tweets.tweet_text]"
   ]
  },
  {
   "cell_type": "code",
   "execution_count": 11,
   "metadata": {},
   "outputs": [
    {
     "data": {
      "text/html": [
       "<div>\n",
       "<style scoped>\n",
       "    .dataframe tbody tr th:only-of-type {\n",
       "        vertical-align: middle;\n",
       "    }\n",
       "\n",
       "    .dataframe tbody tr th {\n",
       "        vertical-align: top;\n",
       "    }\n",
       "\n",
       "    .dataframe thead th {\n",
       "        text-align: right;\n",
       "    }\n",
       "</style>\n",
       "<table border=\"1\" class=\"dataframe\">\n",
       "  <thead>\n",
       "    <tr style=\"text-align: right;\">\n",
       "      <th></th>\n",
       "      <th>tweet_text</th>\n",
       "      <th>emotion_in_tweet_is_directed_at</th>\n",
       "      <th>is_there_an_emotion_directed_at_a_brand_or_product</th>\n",
       "      <th>text</th>\n",
       "    </tr>\n",
       "  </thead>\n",
       "  <tbody>\n",
       "    <tr>\n",
       "      <th>0</th>\n",
       "      <td>.@wesley83 I have a 3G iPhone. After 3 hrs twe...</td>\n",
       "      <td>iPhone</td>\n",
       "      <td>Negative emotion</td>\n",
       "      <td>3G iPhone. 3 hrs tweeting #RISE_Austin , dead ...</td>\n",
       "    </tr>\n",
       "    <tr>\n",
       "      <th>1</th>\n",
       "      <td>@jessedee Know about @fludapp ? Awesome iPad/i...</td>\n",
       "      <td>iPad or iPhone App</td>\n",
       "      <td>Positive emotion</td>\n",
       "      <td>Know ? Awesome iPad/iPhone app ' likely apprec...</td>\n",
       "    </tr>\n",
       "    <tr>\n",
       "      <th>2</th>\n",
       "      <td>@swonderlin Can not wait for #iPad 2 also. The...</td>\n",
       "      <td>iPad</td>\n",
       "      <td>Positive emotion</td>\n",
       "      <td>wait #iPad 2 also. sale #SXSW .</td>\n",
       "    </tr>\n",
       "    <tr>\n",
       "      <th>3</th>\n",
       "      <td>@sxsw I hope this year's festival isn't as cra...</td>\n",
       "      <td>iPad or iPhone App</td>\n",
       "      <td>Negative emotion</td>\n",
       "      <td>hope year ' festival ' crashy year ' iPhone ap...</td>\n",
       "    </tr>\n",
       "    <tr>\n",
       "      <th>4</th>\n",
       "      <td>@sxtxstate great stuff on Fri #SXSW: Marissa M...</td>\n",
       "      <td>Google</td>\n",
       "      <td>Positive emotion</td>\n",
       "      <td>great stuff Fri #SXSW : Marissa Mayer ( Google...</td>\n",
       "    </tr>\n",
       "  </tbody>\n",
       "</table>\n",
       "</div>"
      ],
      "text/plain": [
       "                                          tweet_text  \\\n",
       "0  .@wesley83 I have a 3G iPhone. After 3 hrs twe...   \n",
       "1  @jessedee Know about @fludapp ? Awesome iPad/i...   \n",
       "2  @swonderlin Can not wait for #iPad 2 also. The...   \n",
       "3  @sxsw I hope this year's festival isn't as cra...   \n",
       "4  @sxtxstate great stuff on Fri #SXSW: Marissa M...   \n",
       "\n",
       "  emotion_in_tweet_is_directed_at  \\\n",
       "0                          iPhone   \n",
       "1              iPad or iPhone App   \n",
       "2                            iPad   \n",
       "3              iPad or iPhone App   \n",
       "4                          Google   \n",
       "\n",
       "  is_there_an_emotion_directed_at_a_brand_or_product  \\\n",
       "0                                   Negative emotion   \n",
       "1                                   Positive emotion   \n",
       "2                                   Positive emotion   \n",
       "3                                   Negative emotion   \n",
       "4                                   Positive emotion   \n",
       "\n",
       "                                                text  \n",
       "0  3G iPhone. 3 hrs tweeting #RISE_Austin , dead ...  \n",
       "1  Know ? Awesome iPad/iPhone app ' likely apprec...  \n",
       "2                    wait #iPad 2 also. sale #SXSW .  \n",
       "3  hope year ' festival ' crashy year ' iPhone ap...  \n",
       "4  great stuff Fri #SXSW : Marissa Mayer ( Google...  "
      ]
     },
     "execution_count": 11,
     "metadata": {},
     "output_type": "execute_result"
    }
   ],
   "source": [
    "df_tweets.head()"
   ]
  },
  {
   "cell_type": "markdown",
   "metadata": {
    "colab_type": "text",
    "id": "OGWB3P2WH0NY"
   },
   "source": [
    "### 3. Consider only rows having Positive emotion and Negative emotion and remove other rows from the dataframe."
   ]
  },
  {
   "cell_type": "code",
   "execution_count": 12,
   "metadata": {
    "colab": {},
    "colab_type": "code",
    "id": "bdgA_8N2H0NY"
   },
   "outputs": [],
   "source": [
    "emotion_colname = \"is_there_an_emotion_directed_at_a_brand_or_product\""
   ]
  },
  {
   "cell_type": "code",
   "execution_count": 13,
   "metadata": {
    "colab": {},
    "colab_type": "code",
    "id": "_Jlu-reIH0Na"
   },
   "outputs": [],
   "source": [
    "df_tweets1 = df_tweets[df_tweets[emotion_colname].isin([\"Negative emotion\",\"Positive emotion\"])]"
   ]
  },
  {
   "cell_type": "code",
   "execution_count": 14,
   "metadata": {},
   "outputs": [
    {
     "data": {
      "text/plain": [
       "(3548, 4)"
      ]
     },
     "execution_count": 14,
     "metadata": {},
     "output_type": "execute_result"
    }
   ],
   "source": [
    "df_tweets1.shape"
   ]
  },
  {
   "cell_type": "markdown",
   "metadata": {
    "colab_type": "text",
    "id": "SotCRvkDH0Nf"
   },
   "source": [
    "### 4. Represent text as numerical data using `CountVectorizer` and get the document term frequency matrix\n",
    "\n",
    "#### Use `vect` as the variable name for initialising CountVectorizer."
   ]
  },
  {
   "cell_type": "code",
   "execution_count": 15,
   "metadata": {
    "colab": {},
    "colab_type": "code",
    "id": "YcbkY4sgH0Ng"
   },
   "outputs": [],
   "source": [
    "from sklearn.feature_extraction.text import CountVectorizer"
   ]
  },
  {
   "cell_type": "code",
   "execution_count": 16,
   "metadata": {
    "colab": {},
    "colab_type": "code",
    "id": "KyXtZGr-H0Nl"
   },
   "outputs": [],
   "source": [
    "# create the transform\n",
    "vectorizer = CountVectorizer()"
   ]
  },
  {
   "cell_type": "code",
   "execution_count": 17,
   "metadata": {
    "colab": {},
    "colab_type": "code",
    "id": "Z4LUM-XPH0Nn"
   },
   "outputs": [
    {
     "data": {
      "text/plain": [
       "CountVectorizer()"
      ]
     },
     "execution_count": 17,
     "metadata": {},
     "output_type": "execute_result"
    }
   ],
   "source": [
    "vectorizer.fit(df_tweets1[\"text\"])"
   ]
  },
  {
   "cell_type": "code",
   "execution_count": 18,
   "metadata": {
    "collapsed": true
   },
   "outputs": [
    {
     "name": "stdout",
     "output_type": "stream",
     "text": [
      "{'3g': 92, 'iphone': 2796, 'hrs': 2577, 'tweeting': 5412, 'rise_austin': 4376, 'dead': 1377, 'need': 3498, 'upgrade': 5500, 'plugin': 3916, 'stations': 4877, 'sxsw': 5032, 'know': 2948, 'awesome': 517, 'ipad': 2786, 'app': 384, 'likely': 3067, 'appreciate': 405, 'design': 1441, 'also': 308, 'giving': 2245, 'free': 2102, 'ts': 5380, 'wait': 5622, 'sale': 4432, 'hope': 2549, 'year': 5847, 'festival': 1962, 'crashy': 1262, 'great': 2323, 'stuff': 4945, 'fri': 2108, 'marissa': 3241, 'mayer': 3275, 'google': 2285, 'tim': 5250, 'reilly': 4259, 'tech': 5125, 'books': 709, 'conferences': 1138, 'amp': 331, 'matt': 3267, 'mullenweg': 3454, 'wordpress': 5785, 'starting': 4869, 'ctia': 1305, 'around': 430, 'corner': 1213, 'googleio': 2293, 'hop': 2548, 'skip': 4686, 'jump': 2885, 'good': 2278, 'time': 5252, 'android': 342, 'fan': 1902, 'beautifully': 606, 'smart': 4715, 'simple': 4655, 'idea': 2610, 'rt': 4411, 'wrote': 5819, 'hollergram': 2527, 'http': 2583, 'bit': 665, 'ly': 3176, 'ieavob': 2621, 'counting': 1231, 'days': 1375, 'plus': 3918, 'strong': 4935, 'canadian': 865, 'dollar': 1567, 'means': 3287, 'stock': 4899, 'apple': 394, 'gear': 2189, 'excited': 1829, 'meet': 3295, 'show': 4627, 'sprint': 4845, 'galaxy': 2167, 'still': 4896, 'running': 4422, 'fail': 1892, 'find': 1990, 'start': 4867, 'impromptu': 2661, 'parties': 3767, 'gvlrin': 2376, 'til': 5248, 'comes': 1092, 'foursquare': 2089, 'ups': 5505, 'game': 2170, 'mp': 3446, 'grn7pk': 2335, 'prefer': 3987, 'far': 1912, 'best': 636, 'looking': 3129, 'date': 1365, 'gotta': 2300, 'love': 3149, 'calendar': 846, 'featuring': 1941, 'top': 5300, 'cases': 893, 'check': 967, 'out': 3688, 'via': 5567, 'gt': 2356, 'axzwxb': 524, 'tinyurl': 5261, 'com': 1085, '4nqv92l': 110, 'haha': 2389, 'awesomely': 518, 'rad': 4149, 'htdfim': 2579, 'noticed': 3574, 'dst': 1632, 'coming': 1096, 'weekend': 5686, 'many': 3227, 'users': 5525, 'hour': 2567, 'late': 2985, 'come': 1089, 'sunday': 4978, 'morning': 3426, 'added': 216, 'flights': 2025, 'matching': 3264, 'people': 3816, 'planes': 3888, 'airports': 278, 'downloaded': 1600, 'nicely': 3541, 'done': 1578, 'must': 3468, 'lovely': 3153, 'review': 4342, 'forbes': 2069, 'holler': 2526, 'gram': 2312, 'co': 1061, 'g4gzypv': 2156, 'buy': 829, 'ipad2': 2788, 'austin': 483, 'sure': 4991, 'store': 4909, 'oh': 3625, 'my': 3473, 'god': 2260, 'pure': 4097, 'unadulterated': 5446, 'easier': 1663, 'browse': 789, 'events': 1801, 'website': 5681, 'okay': 3628, 'really': 4196, 'yay': 5843, 'new': 3521, '11': 16, 'kthxbai': 2955, 'photo': 3843, 'installed': 2732, 'nice': 3540, 'tumblr': 5387, 'x6t1pi6av7': 5828, 'enjoying': 1748, 'changes': 944, 'gowalla': 2305, 'forward': 2085, 'seeing': 4519, 'else': 1709, 'sleeves': 4696, 'smcdallas': 4724, 'pre': 3983, 'party': 3771, 'wed': 5684, 'hoping': 2552, 'win': 5730, 'resulting': 4328, 'shameless': 4584, 'promotion': 4056, 'chevysmc': 978, 'someone': 4777, 'started': 4868, 'group': 2340, 'groups': 2345, '4sq3': 112, 'looks': 3131, 'like': 3064, 'going': 2270, 'rock': 4387, 'update': 5496, 'push': 4100, 'tonight': 5289, 'etsbzk': 1789, 'keepaustinweird': 2902, 'right': 4365, 'sweeeeet': 5013, 'job': 2855, 'team': 5118, 'there': 5197, 'a3xvwc6': 167, 'may': 3273, 'leave': 3024, 'vuvuzela': 5618, 'home': 2533, 'itunes': 2824, 'us': 5513, 'id420666439': 2609, 'mt': 3452, 'ha': 2381, 'first': 2002, 'line': 3075, 'quot': 4143, 'pop': 3938, 'up': 5493, 'event': 1798, 'planner': 3890, 'eventprofs': 1800, 'pcma': 3799, 'engage365': 1738, 'false': 1898, 'alarm': 286, 'circles': 1009, 'now': 3581, 'ûòand': 5928, 'probably': 4034, 'ever': 1804, 'link': 3079, 'social': 4751, 'weather': 5671, 'greet': 2327, 'sweater': 5012, 'night': 3546, 'putting': 4107, 'flash': 2016, 'downtown': 1605, 'sell': 4533, 'smartcover': 4716, 'ûª': 5912, 'opens': 3654, 'instant': 2735, 'access': 182, 'waited': 5623, 'get': 2219, 'one': 3640, 'hand': 2399, 'held': 2468, 'hobo': 2519, 'drafthouse': 1606, 'launches': 2997, 'shotgun': 4621, 'hooray': 2544, 'opening': 3653, '124': 21, 'wooooo': 5780, 'open': 3648, 'midnight': 3337, 'talking': 5096, 'effort': 1695, 'allow': 299, 'systems': 5073, 'bettercloud': 643, '1st': 51, 'stop': 4905, 'chaos': 948, 'hunt': 2592, 'java': 2837, 'spy': 4846, 'chance': 939, 'omfg': 3634, 'heard': 2454, 'pics': 3855, 'already': 307, 'insane': 2717, 'attending': 467, 'headaches': 2445, 'boooo': 712, 'flipboard': 2027, 'developing': 1465, 'version': 5562, 'says': 4461, 'power': 3970, 'sxswi': 5046, 'it': 2818, 'bands': 551, 'food': 2058, 'art': 435, 'ice': 2605, 'cream': 1269, 'nifty': 3545, 'interactive': 2748, 'maps': 3233, 'holla': 2525, 'butt': 825, 'here': 2477, 'case': 892, 'phone': 3841, 'post': 3961, 'makes': 3212, 'easy': 1666, 'connect': 1149, 'networks': 3517, 'behaving': 619, 'today': 5281, 'crashes': 1260, 'yesterday': 5857, 'ridiculous': 4360, 'hey': 2479, 'fans': 1909, 'peek': 3807, 'space': 4804, 'slated': 4692, 'tomorrow': 5285, 'thing': 5205, 'earth': 1658, 'face': 1882, 'company': 1111, 'sxwsi': 5061, 'thanks': 5178, 'mention': 3312, 'speech': 4817, 'apps': 412, 'showcased': 4629, 'conf': 1136, 'sxswh': 5045, 'sxsh': 5030, 'provide': 4068, 'chargers': 953, 'changed': 942, 'mind': 3350, 'next': 3533, 'xmas': 5833, 'shiny': 4603, 'book': 707, 'stores': 4910, 'christmas': 999, 'nerds': 3507, 'yai': 5840, 'ubersocial': 5430, 'includes': 2678, 'uberguide': 5429, 'sponsored': 4836, 'cont': 1169, 'fast': 1920, 'fun': 2139, 'future': 2146, 'presenting': 4007, 'search': 4504, 'local': 3106, 'mobile': 3390, 'headline': 2448, 'have': 2434, 'gadget': 2158, 'hmm': 2516, 'could': 1228, 'seen': 4524, 'dataviz': 1364, 'translates': 5344, 'satanic': 4446, 'sayin': 4459, 'launched': 2996, 'checkins': 970, 'month': 3416, 'ago': 261, 'ins': 2716, 'ok': 3627, 'outs': 3694, 'bizzy': 668, 'tweet': 5405, 'think': 5208, 'speak': 4811, 'mark': 3245, 'belinsky': 623, '911tweets': 149, 'panel': 3739, 'kawasaki': 2900, 'lewis': 3048, 'level': 3046, 'reasoning': 4202, 'continued': 1177, 'existence': 1840, 'evidence': 1814, 'bawling': 592, 'pagemaker': 3728, 'saved': 4451, 'jwtatl': 2895, 'enchantment': 1729, 'spark': 4806, 'teamandroid': 5120, 'award': 511, 'read': 4184, 'thoughts': 5223, 'japan': 2834, 'apac': 379, 'regions': 4248, 'dealing': 1381, 'earthquake': 1660, 'tsunami': 5382, 'trauma': 5348, 'schools': 4485, 'marketing': 3250, 'experts': 1855, 'temporary': 5153, 'def': 1399, 'tent': 5160, 'powerhouse': 3973, 'gym': 2377, '6th': 131, 'congress': 1148, 'along': 304, '10': 5, '000': 0, 'happy': 2419, 'hipsters': 2503, 'wins': 5739, 'support': 4986, 'launch': 2995, 'trending': 5356, 'nerdy': 3509, 'christian': 998, 'devs': 1470, 'want': 5642, 'talk': 5094, 'maybe': 3274, 'wk': 5761, 'together': 5282, 'cool': 1196, 'taken': 5086, 'storm': 4912, 'part': 3763, 'haz': 2441, 'ifrom': 2623, 'gr8': 2308, 'stacks': 4854, 'waiting': 5624, 'bought': 729, 'got': 2299, 'mine': 3358, 'hassle': 2429, 'all': 296, 'handled': 2403, 'perfectly': 3822, 'smallbiz': 4713, 'reviews': 4343, 'play': 3897, 'places': 3882, 'seo': 4544, 'take': 5084, 'major': 3208, 'south': 4800, 'korean': 2953, 'director': 1506, 'gets': 2221, '130': 25, 'make': 3210, 'movie': 3442, 'entirely': 1759, 'beautiful': 605, 'pic': 3850, 'sneaky': 4747, 'usual': 5530, 'beta': 640, 'testing': 5168, 'moonbot': 3421, 'studios': 4942, 'louisiana': 3146, 'day': 1373, 'ton': 5286, 'sold': 4766, 'everything': 1811, 'except': 1826, '64gig': 127, 'wifi': 5720, 'white': 5705, 'manage': 3219, 'known': 2951, 'jeans': 2843, 'configuration': 1140, 'offered': 3613, 'promo': 4054, 'ninjafinder': 3553, 'sucks': 4964, 'poursite': 3969, 'learning': 3018, 'life': 3054, 'changing': 945, 'impact': 2647, 'real': 4189, 'actual': 208, 'lives': 3094, 'bravo': 751, 'lonelyplanet': 3121, 'guide': 2365, 'limited': 3072, 'lp': 3163, 'travel': 5349, 'short': 4616, 'lines': 3076, 'left': 3027, 'tradeshow': 5334, 'demo': 1425, 'theatre': 5185, 'see': 4518, 'presenters': 4006, 'using': 5528, 'anyone': 371, 'quick': 4136, 'hundred': 2588, 'dollars': 1568, 'ad': 210, 'hoc': 2520, 'cost': 1222, 'monday': 3408, 'barry': 567, 'diller': 1499, 'york': 5864, 'times': 5257, 'lunch': 3171, 'hotel': 2562, 'six': 4673, 'dirty': 1508, 'martinis': 3254, 'mondays': 3409, 'seriously': 4549, 'constant': 1162, 'causing': 908, 'lost': 3140, 'schedules': 4480, 'sync': 5066, 'wp7': 5809, 'ready': 4188, 'ur': 5509, 'blogging': 688, 'conflagration': 1143, 'doofusness': 1586, 'attention': 468, 'ers': 1777, 'rumored': 4417, 'needs': 3500, 'went': 5695, 'lousy': 3148, 'winning': 5738, 'picture': 3856, 'spent': 4824, 'used': 5520, 'couple': 1233, 'city': 1014, 'blocks': 684, 'behind': 621, '100s': 7, 'emails': 1712, 'give': 2240, 'composed': 1126, 'replies': 4297, 'protip': 4064, '10pm': 14, 'block': 681, 'popup': 3945, 'selling': 4534, 'ipad2s': 2789, '2s': 73, 'wild': 5723, 'say': 4458, 'terrible': 5165, 'takes': 5088, 'video': 5573, 'snapping': 4744, 'away': 515, 'keynote': 2911, 'slides': 4700, 'southwest': 4803, 'sweet': 5016, 'ballroom': 547, '35': 86, 'million': 3347, 'miles': 3343, 'per': 3818, 'driving': 1620, 'navigation': 3490, 'growing': 2347, 'band': 550, 'share': 4586, 'track': 5326, 'audience': 476, 'stage': 4856, 'use': 5519, 'frostwire': 2121, 'wi': 5715, 'fi': 1968, 'available': 502, 'car': 876, 'zimride': 5888, 'etc': 1787, 'rides': 4357, 'shareable': 4587, 'picked': 3852, 'mophie': 3423, 'battery': 585, 'prep': 3996, 'lugging': 3170, 'laptop': 2975, 'huge': 2586, 'last': 2982, 'rumor': 4416, 'monger': 3412, 'å_': 5903, 'preview': 4015, 'socbiz': 4750, 'fb': 1936, 'yes': 5856, 'please': 3908, 'build': 805, 'less': 3037, '24': 62, 'hours': 2568, 'biggest': 654, 'history': 2509, 'this': 5215, 'groupme': 2343, 'sounds': 4797, 'incredible': 2682, 'phones': 3842, 'yet': 5858, 'alarms': 287, 'botch': 725, 'timechange': 5253, 'freak': 2100, 'missed': 3370, 'panels': 3742, 'bloody': 690, 'marys': 3256, 'shouts': 4626, 'ladies': 2964, 'holding': 2523, 'shows': 4634, 'photos': 3846, 'sipping': 4665, 'beer': 612, 'cc': 911, 'meant': 3288, 'wish': 5750, 'dyac': 1645, 'stupid': 4950, 'rumors': 4418, 'signs': 4650, 'point': 3924, '15': 30, 'minute': 3365, 'brilliant': 774, 'enlightening': 1750, 'mechanics': 3293, 'presentation': 4004, 'sales': 4433, 'genius': 2211, 'dictaphone': 1477, 'vid': 5572, 'camera': 858, 'wow': 5806, 'cerebellum': 927, 'charged': 951, 'personal': 3830, 'found': 2087, 'kyping': 2958, 'geolocation': 2216, 'releasing': 4270, 'background': 529, 'patch': 3784, 'batterykiller': 586, 'live': 3092, 'rsvp': 4410, 'sundayswagger': 4979, 'eventbrite': 1799, '20': 52, 'scoremore': 4493, 'course': 1235, 'built': 808, 'temp': 5150, 'texas': 5172, 'understand': 5456, 'concept': 1131, 'corralling': 1218, 'cattle': 905, 'pickmeupanipad2': 3854, 'let': 3039, 'something': 4779, 'retail': 4331, 'near': 3495, 'keep': 2901, 'surprise': 4996, 'opened': 3651, 'town': 5324, 'cnet': 1054, 'ipads': 2795, 'example': 1822, 'layed': 3005, 'registers': 4250, 'checkout': 971, 'gswsxsw': 2355, 'traffic': 5335, 'noon': 3562, 'fresh': 2107, 'shipment': 4604, 'pretty': 4013, 'fingers': 1997, 'crossed': 1289, 'technews': 5134, 'saves': 4452, 'set': 4562, 'tech_news': 5127, 'lt': 3164, 'true': 5370, 'loathe': 3103, 'blogs': 689, 'atx': 473, 'mall': 3216, '10x': 15, 'crowded': 1293, 'fake': 1897, 'fucking': 2132, 'dongle': 1579, 'in': 2670, 'makeshift': 3213, 'kidding': 2923, 'me': 3282, 'amazing': 318, 'fanboy': 1904, 'shit': 4608, 'temptation': 5155, 'control': 1181, '5pm': 122, 'view': 5578, 'io': 2782, 'office': 3616, 'news': 3525, 'you': 5865, 'ûªll': 5913, '150': 31, 'atåê': 475, 'software': 4764, 'development': 1466, 'release': 4267, 'working': 5791, 'overheard': 3701, 'relaxing': 4266, 'computer': 1127, 'agreed': 263, 'arg': 422, 'hate': 2430, 'blackberry': 671, 'back': 528, 'shocked': 4611, 'technology': 5137, 'go': 2258, 'everbody': 1805, 'media': 3294, 'driven': 1617, 'revolutions': 4347, 'better': 642, 'long': 3122, 'work': 5787, 'rather': 4176, 'agileagency': 259, 'knackered': 2942, 'playing': 3904, 'updating': 5499, 'timeline': 5255, 'smashed': 4723, 'partytweets': 3773, 'bed': 610, 'mdw': 3281, 'second': 4514, 'halfway': 2395, 'even': 1796, 'boarded': 702, 'plane': 3887, 'amateurhour': 317, 'jobs_co': 2857, 'final': 1985, 'doodles': 1585, 'googledoodle': 2290, 'crowd': 1291, 'tripping': 5364, 'aclu': 195, '80': 135, 'laughed': 2994, 'week': 5685, 'hauling': 2433, 'macbook': 3183, 'everywhere': 1813, 'shoulder': 4624, 'rub': 4412, 'attendees': 466, 'qr': 4113, 'code': 1066, 'reader': 4185, 'image': 2637, 'badge': 535, 'optiscan': 3663, 'four': 2088, 'took': 5294, 'lego': 3029, 'pit': 3871, 'replaced': 4292, 'recharging': 4211, 'station': 4876, 'might': 3341, 'prices': 4019, 'crap': 1252, 'samsung': 4438, 'bad': 534, 'qs': 4117, 'process': 4036, 'poo': 3933, 'poos': 3937, 'ideas': 2612, 'leaves': 3025, 'early': 1653, 'creative': 1274, 'busy': 823, 'gamestorming': 2175, 'trying': 5379, 'balance': 543, 'vs': 5614, 'airplane': 276, 'mode': 3396, '100': 6, 'tweets': 5413, 'precommerce': 3985, 'watch': 5656, 'ipadmadness': 2794, 'shop': 4614, 'core': 1212, 'action': 201, 'celebrate': 913, 'beauty': 607, 'web': 5672, 'msft': 3451, 'ie9': 2620, 'html5': 2581, 'gave': 2183, 'money': 3411, 'relief': 4274, 'improve': 2662, 'beyond': 647, 'sharing': 4590, 'positive': 3955, 'actions': 202, 'world': 5794, 'download': 1599, 'earthhour': 1659, '60': 124, 'bing': 659, 'bettersearch': 644, 'shot': 4620, 'success': 4957, 'structured': 4936, 'potentially': 3967, 'higher': 2487, 'margin': 3239, 'cpa': 1247, 'model': 3397, 'results': 4329, 'qagb': 4111, 'impulsive': 2667, 'friends': 2115, 'too': 5291, 'gen': 2205, '32gb': 85, 'buying': 831, 'geekdate': 2193, 'present': 4003, 'rsq': 4409, 'tuxedo': 5399, 'lose': 3137, 'exciting': 1831, 'can': 863, 'ûªt': 5916, 'certain': 929, 'meetings': 3298, 'hello': 2470, 'dont': 1581, 'miss': 3369, 'charles': 958, 'chen': 976, 'chromeos': 1001, 'booth': 714, 'exhibit': 1837, 'hall': 2396, '1pm': 50, 'guess': 2361, 'desperate': 1451, 'locations': 3111, 'considering': 1159, 'leaving': 3026, 'pro': 4032, 'flying': 2039, 'solo': 4769, 'shipments': 4605, 'daily': 1338, 'follow': 2050, 'appleatxdt': 397, 'updates': 5498, 'seems': 4523, 'battlela': 589, 'secret': 4516, 'batphone': 582, 'tv': 5400, 'league': 3012, 'extraordinary': 1872, 'hackers': 2386, 'lxh': 3175, 'big': 652, 'chunky': 1004, 'elements': 1705, 'generous': 2210, 'clarity': 1018, 'trumps': 5373, 'density': 1437, 'tap': 5099, 'quality': 4122, 'quantity': 4123, 'tapworthy': 5100, 'designing': 1446, 'interfaces': 2752, 'schemas': 4482, 'lovin': 3158, 'digital': 1495, 'sings': 4663, 'plays': 3905, 'guitar': 2370, 'record': 4225, 'vids': 5577, 'cnn': 1055, 'cnngrill': 1056, 'thinks': 5210, 'content': 1171, 'nuts': 3592, 'another': 357, 'network': 3515, 'docomo': 1554, 'introduced': 2766, 'years': 5848, 'came': 857, 'jpmobilesummit': 2875, 'jeez': 2845, 'guys': 2375, 'dunno': 1641, 'gold': 2271, 'realize': 4192, 'un': 5443, 'jobs': 2856, 'aesthetic': 245, 'begins': 616, 'tc': 5111, 'techcrunch': 5128, 'winsåê': 5740, 'gonna': 2275, 'sum': 4974, 'pm': 3919, 'winsåêsxsw': 5741, 'badgeless': 536, 'drinks': 1615, 'heading': 2447, 'semantic': 4537, 'fogo': 2047, 'de': 1376, 'chìáo': 1005, 'swag': 5009, 'charging': 956, 'timing': 5258, 'brand': 748, 'winner': 5736, 'pnid': 3920, 'exhibitors': 1838, 'capture': 874, 'experience': 1850, 'retrollect': 4333, 'disc': 1515, 'popular': 3943, 'fantastic': 1910, 'schedule': 4477, 'bummer': 813, 'crackberry': 1250, 'accessory': 186, 'followed': 2051, 'closely': 1041, 'margarita': 3238, 'fav': 1929, 'fell': 1953, 'throwing': 5233, 'nerd': 3502, 'speakeasy': 4812, 'way': 5664, 'figure': 1974, 'replacement': 4293, 'making': 3214, 'stream': 4923, 'inane': 2671, 'surely': 4992, 'southby': 4801, 'hottest': 2566, 'spots': 4840, 'hot': 2561, 'focusing': 2045, 'bridging': 768, 'physical': 3848, 'divide': 1544, 'eg': 1697, 'streetview': 4927, 'hotpot': 2564, 'autonomous': 500, 'folks': 2049, 'posted': 3962, 'blast': 675, 'customers': 1324, 'alcoholics': 290, 'call': 849, 'enabling': 1726, 'rest': 4319, 'bound': 731, 'fanboys': 1906, 'list': 3084, 'ntn': 3586, 'helps': 2475, 'field': 1969, 'kids': 2924, 'hitlantis': 2512, 'song': 4781, 'explorer': 1861, 'musicviz': 3464, 'willing': 5726, 'pick': 3851, 'pay': 3792, 'premium': 3995, 'dm': 1550, 'atl': 458, 'akqas': 282, 'interface': 2751, 'callback': 851, 'principles': 4022, 'examples': 1823, 'person': 3829, 'front': 2118, 'outside': 3695, 'word': 5783, 'forget': 2075, 'snap': 4743, 'air': 273, 'getting': 2222, 'full': 2136, 'underway': 5458, 'tell': 5148, 'intermittent': 2753, 'brick': 766, 'labs': 2962, 'laptops': 2976, 'source': 4799, 'coders': 1068, 'cupcake': 1310, 'windows': 5732, 'addition': 223, 'afraid': 249, 'omg': 3635, 'iphone4': 2797, 'ipod': 2800, 'tab': 5075, 'techgeek': 5130, 'golden': 2272, 'tickets': 5243, '4sq': 111, 'redbullbpm': 4236, 'felix': 1952, 'da': 1334, 'housecat': 2570, 'gsd': 2353, 'blowing': 692, 'much': 3453, 'drink': 1614, 'music': 3461, 'authenticator': 491, 'devices': 1469, 'step': 4890, 'ahead': 265, 'alternative': 311, 'facebook': 1883, 'lets': 3040, 'sites': 4671, 'stand': 4857, 'blocking': 683, 'length': 3034, 'penalty': 3812, 'based': 572, 'severity': 4572, 'breach': 754, 'webmaster': 5679, 'guidelines': 2366, 'text': 5174, 'bgr': 650, '30': 76, 'pen': 3811, 'called': 852, 'possibly': 3960, 'never': 3519, 'beat': 603, 'myspace': 3477, 'bigger': 653, 'gaga': 2162, 'super': 4983, 'interesting': 2750, 'applause': 393, 'privacy': 4028, 'attempt': 463, 'worlds': 5795, 'contextual': 1175, 'discovery': 1520, 'location': 3110, 'context': 1174, 'deeper': 1398, 'searches': 4506, 'without': 5757, 'googletv': 2296, 'connected': 1150, 'connectedtv': 1153, 'fascinating': 1917, 'cnnmoney': 1057, 'craving': 1264, 'minds': 3354, 'created': 1271, 'foodspotting': 2062, 'dude': 1636, 'cutsies': 1329, 'smtravel': 4733, 'plans': 3892, 'socnet': 4761, 'learned': 3017, 'lot': 3141, 'lots': 3142, 'invites': 2780, 'two': 5422, 'pocket': 3921, 'place': 3881, 'hawk': 2438, 'enjoy': 1746, 'ride': 4356, 'anywhere': 376, 'groundlink': 2339, '437': 101, 'lordy': 3135, 'pulling': 4087, 'trigger': 5362, 'loved': 3150, 'honesty': 2537, 'products': 4041, 'customer': 1323, 'service': 4557, 'bout': 733, 'donating': 1576, 'spending': 4823, 'wondering': 5776, 'revenue': 4341, 'grossed': 2337, 'account': 191, 'amid': 326, 'strategic': 4920, 'cell': 916, 'glad': 2246, 'lifelinetotheworld': 3056, 'feeling': 1948, 'worst': 5801, 'try': 5378, 'everyone': 1810, 'techiesunite': 5133, 'runs': 4423, 'juice': 2880, 'holy': 2531, 'cow': 1244, 'hooked': 2542, 'paolo': 3749, 'alex': 293, 'backup': 532, 'charger': 952, 'powermat': 3975, 'powermatteam': 3976, 'powermattteam': 3977, 'catch': 901, '22': 60, 'û_': 5911, 'mean': 3284, 'knew': 2943, 'plied': 3911, 'stogies': 4900, 'weasel': 5670, 'thought': 5221, 'would': 5805, 'touched': 5315, 'once': 3639, 'hmmzies': 2518, 'convention': 1186, 'center': 918, 'fam': 1899, 'showing': 4633, 'frustrated': 2125, 'moment': 3403, 'runaround': 4421, 'att': 461, 'startupbus': 4872, 'addictive': 220, 'spot': 4839, 'data': 1362, 'speed': 4818, 'ios': 2783, 'ppl': 3979, 'friday': 2112, 'queue': 4133, 'centre': 921, 'xd': 5830, 'figuring': 1975, 'wot': 5804, 'clip': 1036, 'joins': 2863, 'sxswgo': 5043, 'room': 4399, 'run': 4420, 'others': 3685, 'cnt': 1059, 'ignite': 2624, 'supporting': 4987, 'smarty': 4722, 'ears': 1657, 'therapy': 5196, 'mac': 3181, 'goodness': 2282, 'zite': 5891, 'intelligent': 2743, 'magazine': 3198, 'deliciousness': 1415, 'youneedthis': 5866, 'interested': 2749, 'indoor': 2690, 'venues': 5558, 'businesses': 822, 'centers': 919, 'soo': 4785, 'invisible': 2777, 'instruments': 2738, 'jaw': 2839, 'dropping': 1625, 'wii': 5721, 'controller': 1182, 'lovemusicapi': 3154, 'rockin': 4390, 'apple_store': 395, 'ipad_2': 2791, 'jailbreak': 2829, 'grateful': 2321, 'fab5': 1880, '70': 132, 'buyers': 830, 'report': 4298, 'socialmedia': 4754, 'remaining': 4281, 'accessories': 185, 'bag': 539, 'exist': 1839, 'feel': 1946, 'antique': 363, 'everytime': 1812, 'turn': 5395, 'messaging': 3318, 'platform': 3896, 'cheeky': 972, 'shoot': 4612, 'display': 1532, 'questions': 4132, 'later': 2987, 'osmpw': 3682, 'performance': 3823, 'accordion': 190, 'toodamnlucky': 5293, 'fear': 1937, '3gs': 93, 'slowpoke': 4709, 'sxswmusic': 5051, 'mocking': 3395, 'flypost': 2040, 'community': 1106, 'bulletin': 810, 'board': 701, 'learn': 3016, 'pedicab': 3806, 'epic': 1768, 'developer': 1463, 'transient': 5341, 'device': 1468, 'bursts': 818, '8pm': 145, 'couch': 1225, 'disliking': 1529, 'twitter': 5418, 'auto': 494, 'shortening': 4618, 'links': 3081, 'clearly': 1028, 'positively': 3956, 'happily': 2418, 'overheating': 3702, 'british': 779, 'sounding': 4796, 'crashing': 1261, 'instead': 2737, 'then': 5193, 'works': 5792, 'sister': 4667, 'tonigh': 5288, 'wilting': 5729, 'stress': 4929, 'believe': 622, 'almost': 302, 'always': 314, '40': 97, 'geeksrule': 2203, 'taariq': 5074, 'howdy': 2572, 'or': 3664, 'usguys': 5527, 'smaller': 4714, 'pc': 3797, 'meeti': 3296, 'meeting': 3297, 'jealous': 2841, 'obsolete': 3606, 'things': 5206, 'screen': 4497, 'old': 3630, 'explanation': 1858, 'instantly': 2736, 'pixieengine': 3880, 'keeps': 2904, 'awake': 510, 'thank': 5177, 'tough': 5318, 'dwindling': 1644, 'help': 2471, 'jeebus': 2844, 'correcting': 1220, 'curse': 1318, 'words': 5786, 'updated': 5497, 'not': 3566, 'soon': 4786, 'care': 881, 'brazil': 753, 'orkut': 3678, 'threat': 5225, 'pakistan': 3735, 'cwc2011': 1331, 'screenfuture': 4498, 'linking': 3080, 'peeps': 3809, 'most': 3429, 'product': 4040, 'exists': 1842, 'imac': 2634, 'staring': 4864, 'enough': 1751, 'remember': 4284, 'wth': 5823, 'saw': 4457, 'giant': 2225, 'premiere': 3994, 'screams': 4496, 'since': 4660, 'listening': 3087, 'engaging': 1740, 'heck': 2467, 'happened': 2415, 'buzz': 833, 'ranking': 4170, 'efforts': 1696, 'helping': 2474, 'global': 2251, 'issues': 2815, 'wtf': 5822, 'unabashed': 5445, 'geeky': 2204, 'detailed': 1456, 'colour': 1084, 'coded': 1067, 'proving': 4071, 'organized': 3675, 'whole': 5708, 'raises': 4160, 'half': 2394, 'stillonamacbook': 4898, 'shame': 4582, 'nfusion': 3538, 'inside': 2721, 'marty': 3255, 'unboxing': 5449, 'veterans': 5566, 'reasons': 4203, 'made': 3193, 'soundcloud': 4795, 'ambassador': 321, 'upload': 5502, 'reward': 4348, 'alert': 291, 'tablet': 5078, 'finding': 1992, 'needle': 3499, 'haystack': 2440, 'cr': 1248, '48': 105, 'mental': 3311, 'session': 4560, 'taking': 5090, 'doingitwrong': 1565, 'purchased': 4093, 'mexican': 3325, 'mavis': 3271, 'boy': 738, 'bear': 600, 'listen': 3085, 'twice': 5415, 'agnerd': 260, 'dairy': 1339, 'relies': 4275, 'evernote': 1806, 'agchat': 253, 'bummed': 812, 'quarantined': 4125, 'kiddie': 2922, 'cold': 1075, 'garageband': 2178, 'comfort': 1093, 'spotted': 4841, 'nfc': 3536, 'enabled': 1724, 'marker': 3246, 'birds': 662, 'wonder': 5774, 'billboard': 656, 'loving': 3159, 'morphie': 3427, 'juicepack': 2882, 'recharge': 4210, 'worth': 5802, 'move': 3438, 'murphy': 3457, 'usa': 5514, 'serve': 4552, 'announcing': 353, 'features': 1940, 'v5': 5541, 'intimate': 2760, 'designflaws': 1445, 'compiling': 1119, 'doc': 1552, 'longer': 3123, 'musicians': 3463, 'kicked': 2919, 'bucket': 799, 'within': 5755, 'walking': 5632, 'distance': 1538, 'unequipped': 5461, 'compared': 1112, 'dang': 1351, 'hm': 2515, 'mashable': 3258, 'random': 4164, 'tips': 5264, 'dev': 1460, 'politics': 3930, 'trophy': 5366, 'lookingforwardtothemusicfest': 3130, 'hard': 2421, 'feelings': 1949, 'towards': 5322, 'partner': 3768, '1of': 49, 'dfcbto': 1472, 'launching': 2998, 'anything': 373, 'partying': 3772, 'farooqui': 1916, 'catching': 902, 'grow': 2346, 'purchasing': 4096, 'gamesfortv': 2174, 'extended': 1868, '13': 24, 'nothing': 3572, 'teeming': 5141, 'sea': 4503, 'addicts': 221, 'twittering': 5419, 'engage': 1737, 'anoth': 356, 'trend': 5355, 'opinions': 3656, 'annoying': 355, 'hundreds': 2589, 'attend': 464, 'continuum': 1180, 'attitudes': 469, 'crowdsourcing': 1295, 'gap': 2177, 'hear': 2453, 'third': 5213, 'era': 1774, 'logos': 3118, 'gsdm': 2354, 'highlight': 2488, 'undoubtedly': 5460, 'seconds': 4515, 'softball': 4762, 'fancrazed': 1907, 'preso': 4008, '3d': 91, 'vector': 5551, 'panning': 3746, 'gasps': 2180, 'appreciation': 406, 'tomlinson': 5284, 'tx': 5423, 'observer': 3604, 'subscription': 4954, 'impediment': 2649, 'newsapps': 3527, 'official': 3618, 'jk': 2853, 'kiss': 2939, 'slap': 4691, 'xoom': 5835, 'hit': 2511, 'finds': 1993, 'foods': 2061, 'crave': 1263, 'cnnmoneysxsw': 1058, 'shortcuts': 4617, 'newspaper': 3528, 'caramel': 877, 'macchiato': 3186, 'other': 3684, 'ouch': 3687, 'hiss': 2508, 'apparently': 386, 'pumps': 4089, 'lava': 3000, 'tmsxsw': 5276, 'showed': 4632, 'charge': 950, 'bar': 561, 'table': 5076, 'wanted': 5643, 'across': 198, 'street': 4926, 'weeks': 5687, 'umm': 5440, 'obvious': 3608, 'cough': 1227, 'spend': 4822, 'tempted': 5156, 'dexteria': 1471, 'plenty': 3910, 'scarfing': 4470, '65': 129, 'packing': 3722, 'fragmentation': 2092, 'voicefeed': 5605, 'planning': 3891, 'previews': 4016, 'cope': 1203, 'usability': 5515, 'joke': 2865, 'attractive': 472, 'impressive': 2660, 'permanent': 3826, 'finally': 1988, 'dwindled': 1643, 'hook': 2541, 'singing': 4661, 'dancing': 1348, 'high': 2486, 'fives': 2009, 'purchase': 4092, 'pr': 3980, 'stunt': 4949, 'business': 821, 'response': 4316, 'sets': 4564, 'draws': 1611, 'crowds': 1294, 'excellent': 1825, 'untapped': 5486, 'market': 3247, 'site': 4670, 'pour': 3968, 'accessibility': 183, 'sick': 4639, 'problem': 4035, 'living': 3097, 'stories': 4911, 'creating': 1273, 'change': 941, 'hacknews': 2387, 'marketers': 3249, 'professionals': 4042, 'save': 4449, 'reproducing': 4302, 'digitally': 1497, 'organically': 3672, 'consume': 1165, 'information': 2700, 'goggles': 2267, 'that': 5181, 'marissameyer': 3244, 'retiring': 4332, 'wine': 5734, 'library': 3051, 'moving': 3444, 'onto': 3644, 'grape': 2317, 'yr': 5871, 'thankyouecon': 5180, 'reveals': 4338, 'average': 505, 'nyt': 3598, 'oscars': 3681, '16mins': 41, 'blew': 678, 'congrats': 1145, 'eats': 1670, 'bbq': 594, 'sxswbuffalo': 5039, 'lounge': 3147, 'complete': 1121, 'quibidswin': 4135, 'andoid': 338, 'choice': 992, 'awards': 512, 'law': 3002, 'averages': 506, '______': 161, 'naomi': 3485, 'campbell': 861, 'rage': 4155, 'rule': 4414, 'ooing': 3645, 'ahing': 269, 'deal': 1380, 'everybody': 1808, 'status': 4879, 'saving': 4454, 'gps': 2306, 'alternate': 310, 'routes': 4404, 'computing': 1129, 'rare': 4173, 'sighting': 4643, 'indeed': 2685, 'internet': 2755, 'though': 5220, 'suggestions': 4970, 'grabbed': 2310, 'seat': 4509, 'setting': 4565, 'bajillions': 542, 'exclusive': 1833, 'fools': 2063, 'spilled': 4826, 'beans': 599, 'sxflip': 5028, 'impressed': 2657, 'slim': 4702, 'form': 2079, 'on': 3638, 'ness': 3510, 'tried': 5360, 'head': 2444, 'explode': 1859, 'message': 3316, 'brought': 788, 'delicious': 1413, 'often': 3622, 'including': 2679, 'drag': 1607, 'drop': 1623, 'management': 3220, 'talked': 5095, 'developers': 1464, 'meetup': 3300, 'them': 5190, 'androidsxsw': 343, 'transfer': 5340, 'fetishism': 1965, 'slowly': 4708, 'man': 3218, 'ûò': 5927, 'least': 3022, 'look': 3125, 'sxtxstate': 5060, 'to': 5279, 'fonts': 2057, 'lord': 3134, 'vortex': 5610, 'smugness': 4735, 'unbearable': 5447, 'feed': 1944, 'geek': 2192, 'dokobots': 1566, 'geogames': 2215, 'dangerous': 1352, 'hopefully': 2550, 'fact': 1888, 'flew': 2023, 'emc': 1714, 'enter': 1754, 'sampler': 4437, 'following': 2053, 'qa': 4110, 'insights': 2726, 'webmasters': 5680, 'ipoo': 2802, '4chan': 108, 'bathroom': 581, 'wall': 5634, 'sxswmoot': 5050, 'pdanet': 3800, 'likes': 3068, 'whrrl': 5714, 'marketplace': 3251, 'ol': 3629, 'brits': 780, 'gooddeed': 2280, 'original': 3677, '2nd': 71, 'unveiling': 5490, 'scarborough': 4467, 'building': 806, 'star': 4861, 'ftp': 2129, 'cloudapp': 1045, 'typing': 5426, 'skype': 4690, 'exploring': 1863, 'xml': 5834, 'combines': 1087, 'individuals': 2689, 'single': 4662, 'public': 4082, 'common': 1100, 'tablets': 5079, 'finger': 1995, 'carry': 886, 'lame': 2967, 'expectation': 1846, 'engagement': 1739, 'visual': 5597, 'delving': 1423, 'sxfl': 5027, 'insanely': 2718, 'thin': 5204, 'light': 3058, 'hold': 2522, 'mosaicxm': 3428, 'among': 329, 'missing': 3371, 'dance': 1347, 'outbrain': 3689, 'decided': 1392, 'suggestion': 4969, 'welcome': 5692, 'inferior': 2694, 'released': 4268, 'well': 5694, 'wrong': 5818, 'smell': 4726, 'hereforwork': 2478, 'nottheipad2': 3578, 'glimpse': 2250, 'the': 5183, 'gadgets': 2160, 'resist': 4309, 'brainwashed': 747, 'thousands': 5224, 'floating': 2028, 'zero': 5887, 'tip': 5262, 'march': 3237, 'letting': 3044, 'test': 5166, 'drive': 1616, 'fix': 2011, 'bloggable': 686, 'forgot': 2077, 'cleveland': 1029, 'hopkins': 2553, 'airport': 277, 'saying': 4460, 'yelp': 5852, 'services': 4558, 'die': 1481, 'discuss': 1522, 'geeks': 2201, 'expecting': 1848, 'flood': 2030, 'debuting': 1387, 'twit': 5416, 'boxee': 736, 'keg': 2905, 'robots': 4386, 'ferris': 1957, 'checked': 968, 'ebay': 1671, 'hackathon': 2384, 'fond': 2055, 'futuremf': 2148, 'trajan': 5338, 'destroyed': 1454, 'title': 5267, 'tag': 5082, 'websites': 5682, 'graph': 2318, 'protocol': 4065, 'clean': 1026, 'formula': 2084, 'goes': 2265, 'presence': 4002, 'weve': 5697, 'heyo': 2480, 'unloading': 5475, 'dis': 1509, 'bars': 569, 'ridic': 4358, 'luck': 3165, 'mexico': 3326, 'sorta': 4791, 'sux': 5006, 'kik': 2926, 'concierge': 1134, 'add': 215, 'user': 5524, 'ask': 447, 'uxdes': 5536, 'little': 3091, 'parents': 3759, 'anymore': 370, 'comment': 1098, 'child': 983, 'connectedbrands': 1151, 'cover': 1239, 'filming': 1981, 'playback': 3898, 'dense': 1436, 'una': 5444, 'vuelta': 5615, 'por': 3948, 'socialfuel': 4752, 'para': 3755, 'ver': 5559, 'la': 2960, 'gran': 2313, 'diferencia': 1487, 'revolution': 4345, 'clumsily': 1047, 'translated': 5343, 'wishing': 5752, 'ã_': 5900, 'edchat': 1681, 'musedchat': 3458, 'classical': 1021, 'newtwitter': 3532, 'interrupt': 2757, 'regularly': 4256, 'scheduled': 4478, 'programming': 4046, 'creator': 1277, 'create': 1270, 'either': 1700, 'sadly': 4429, 'no': 3554, 'anybodywanttobuymeanipad2': 369, 'cocky': 1064, 'perhaps': 3824, 'separate': 4545, 'extra': 1871, 'articulate': 438, 'relevant': 4272, 'resourceful': 4312, 'hashable': 2426, 'droid': 1621, 'disgusted': 1526, 'witnessed': 5758, 'homeless': 2534, 'guy': 2373, 'inventory': 2772, 'info': 2698, 'passerby': 3777, 'respect': 4313, 'invited': 2779, 'fill': 1976, 'chair': 933, 'overblown': 3698, 'mom': 3401, 'boomers': 711, '_¼': 164, 'ä___ü': 5901, '___': 159, '_____': 160, '_µ': 163, 'classiest': 1023, 'fascist': 1918, 'america': 324, 'elegant': 1704, 'rji': 4380, 'mint': 3364, 'confines': 1141, 'coding': 1069, 'luxury': 3174, 'worry': 5799, 'diff': 1488, 'versions': 5563, 'sxswmobileapps': 5049, 'tracks': 5329, 'industry': 2691, 'favorites': 1933, 'breakout': 760, 'artists': 442, 'copy': 1207, 'kindle': 2934, 'thx': 5241, 'keeping': 2903, 'enchanted': 1727, 'lack': 2963, 'newsworthy': 3530, 'announcements': 351, 'unless': 5472, 'count': 1229, 'googlecircles': 2288, 'spread': 4842, 'markets': 3252, 'comers': 1091, 'ordinance': 3669, 'admission': 228, 'recovery': 4229, 'corrupted': 1221, 'crazy': 1266, 'hotels': 2563, 'aus': 482, 'bergstrom': 631, 'midday': 3334, 'mid': 3333, 'outlet': 3692, 'blocked': 682, 'immobile': 2644, 'serves': 4556, 'purpose': 4099, 'taunt': 5107, 'sorry': 4789, 'forever': 2074, 'ning': 3551, 'roadie': 4383, 'thrilled': 5228, 'offer': 3612, 'unofficial': 5479, 'insider': 2722, 'packed': 3721, 'strangeproblems': 4916, '2011': 55, 'novelty': 3579, 'fades': 1891, 'delegates': 1410, 'xipad': 5831, 'killer': 2929, 'photoes': 3845, 'sxswchi': 5040, 'latest': 2988, 'playsxsw': 3907, 'rankings': 4171, 'advice': 243, 'caring': 883, 'psych': 4077, 'dt': 1633, '80s': 137, 'hosted': 2559, 'yeah': 5846, 'cute': 1327, 'girls': 2237, 'ends': 1735, 'shite': 4609, 'sponso': 4835, 'tons': 5290, 'w00t': 5619, 'yeaayyy': 5845, 'story': 4913, 'stay': 4881, 'tuned': 5390, 'wise': 5749, 'fyi': 2152, 'breaking': 759, 'www': 5827, 'divasanddorks': 1543, 'invades': 2770, 'goodguide': 2281, 'scans': 4466, 'barcode': 562, 'rank': 4168, 'environmental': 1765, 'responsibility': 4318, 'pressure': 4012, 'smmnextgen': 4729, 'order': 3666, 'tempt': 5154, 'austintx': 486, 'lying': 3178, 'signal': 4646, 'strength': 4928, 'dedication': 1396, 'sleepy': 4695, 'largest': 2979, 'nexus': 3535, 'useful': 5521, 'at': 456, 'maggie': 3200, 'maes': 3197, 'glow': 2254, 'dark': 1356, 'shades': 4577, 'scale': 4463, 'tiny': 5260, 'colors': 1083, 'blue': 694, 'meaningful': 3286, 'optimum': 3661, 'shade': 4576, 'do': 1551, 'yourself': 5868, 'scavenger': 4472, 'hunts': 2593, 'hootsuite': 2547, 'tweetdeck': 5407, 'ceo': 924, 'tells': 5149, 'journey': 2873, 'blinksale': 680, 'iconbuffet': 2607, 'packrat': 3723, 'born': 721, 'lightbulb': 3061, 'turned': 5396, 'passì': 3781, 'wssxsw': 5821, 'zomg': 5894, 'loaded': 3101, 'hoot': 2545, 'ps': 4073, 'tvontheradio': 5402, 'tix': 5269, 'yall': 5841, 'studies': 4941, 'players': 3902, 'petting': 3836, 'paper': 3752, 'useless': 5523, 'beforetwitter': 613, 'envy': 1767, 'agree': 262, 'mealtime': 3283, 'details': 1457, 'giveaway': 2241, 'woot': 5782, 'score': 4491, 'handing': 2401, 'pi': 3849, 'whoa': 5707, 'reading': 4187, 'flight': 2024, 'boom': 710, 'important': 2655, 'rite': 4378, 'passage': 3774, 'woo': 5778, 'hoo': 2540, 'il': 2628, 'be': 597, 'nc': 3492, 'buzzing': 834, 'geekdom': 2195, 'elevate': 1706, 'yeay': 5850, 'masha': 3257, 'rollout': 4397, 'breath': 762, 'minded': 3351, 'efficient': 1693, 'beats': 604, 'leather': 3023, 'woohoo': 5779, 'standing': 4860, 'popupstore': 3947, 'twitpic': 5417, 'zazzlesxsw': 5882, 'justmet': 2890, 'worked': 5788, '25': 63, 'et': 1786, 'funny': 2144, 'but': 824, 'confirmed': 1142, 'ûó': 5929, 'applauds': 392, 'freeze': 2105, 'conversion': 1191, 'possibility': 3958, 'ideally': 2611, 'bring': 775, 'socially': 4753, 'lead': 3010, 'doodle': 1584, 'evil': 1815, 'ponies': 3932, 'arm': 426, 'meat': 3291, 'pointer': 3925, 'hilarious': 2493, 'smartphone': 4719, 'land': 2969, 'bus': 819, 'airline': 274, 'mentioned': 3313, 'delightful': 1417, 'drumroll': 1629, 'bt': 796, 'discovr': 1521, 'killing': 2931, 'pubcamp': 4081, 'kirkus': 2938, 'qrank': 4115, 'prizes': 4031, 'saysshewithoutanipad': 4462, 'smileyparty': 4727, 'sn': 4740, 'tunage': 5388, 'leading': 3011, 'getjarsxsw': 2220, 'unique': 5466, 'klick': 2941, 'models': 3398, 'straps': 4919, 'schwag': 4487, 'waste': 5653, 'blogger': 687, 'orange': 3665, 'wodpress': 5766, 'owns': 3716, 'blog': 685, 'grand': 2314, 'tis': 5266, 'covered': 1241, 'sauce': 4448, 'plan': 3885, 'lust': 3172, 'rubbing': 4413, 'escape': 1779, 'rocks': 4392, 'alot': 305, 'sxswnui': 5053, 'denotes': 1435, 'theme': 5191, '1986': 44, 'mae': 3196, 'radio': 4152, 'plug': 3914, 'sound': 4794, 'system': 5072, 'hanging': 2410, 'survival': 5001, 'kit': 2940, '64gb': 126, 'paypal': 3796, 'bored': 719, 'fluffertrax': 2035, 'consulting': 1164, 'avoiding': 508, 'pitfalls': 3874, 'challenges': 937, 'notes': 3569, 'taccsxsw': 5080, 'disaster': 1514, 'died': 1482, 'middle': 3335, 'function': 2140, 'quadroid': 4118, 'qualcomm': 4120, 'decade': 1389, 'wintel': 5742, 'cloud': 1044, '900': 148, '32': 84, 'gb': 2187, 'willpay': 5727, 'zaarly': 5875, 'map': 3228, 'usage': 5516, '59pm': 120, 'pst': 4076, 'trends': 5357, 'angry': 345, 'smackdown': 4711, 'banality': 549, '10am': 11, 'batt': 583, '54': 115, 'notevenstartedyet': 3571, 'worthwhile': 5803, 'improvements': 2664, 'advertising': 242, 'by': 836, 'inde': 2684, 'channels': 947, 'uncategorized': 5450, 'rewardswagon': 4350, 'bookbook': 708, '15slides': 37, 'gruber': 2351, 'desk': 1448, 'keyboard': 2910, 'discontinued': 1516, '1991': 46, '169': 39, 'loud': 3144, 'feels': 1950, 'writes': 5816, 'wjchat': 5760, 'q7a': 4109, 'only': 3643, 'zagg': 5877, 'hopes': 2551, 'neat': 3497, 'database': 1363, 'shall': 4580, 'mystery': 3478, 'prize': 4030, 'gift': 2228, 'discotalk': 1517, '15k': 36, 'pdf': 3801, 'investment': 2774, 'small': 4712, 'mags': 3206, 'chris': 997, 'formerly': 2083, 'obs': 3601, 'ap': 378, 'setup': 4568, 'restaurant': 4320, 'page': 3727, 'sign': 4645, 'hi': 2483, 'door': 1587, 'invite': 2778, 'goona': 2297, 'ass': 452, '3rd': 95, 'charm': 959, 'randomly': 4165, 'sandwich': 4440, 'edible': 1683, 'wrapper': 5812, 'welivehere': 5693, 'featured': 1939, 'watching': 5658, 'simultaneously': 4658, 'force': 2071, 'mmm': 3385, 'beluga': 625, 'coordinate': 1202, 'sxsw4japan': 5035, 'selfish': 4532, 'microsoft': 3332, 'served': 4553, 'engine': 1741, 'techies': 5132, 'they': 5201, 'harnessing': 2423, 'collective': 1080, 'stolen': 4903, 'months': 3418, 'highly': 2490, 'recommend': 4220, 'goodcustomerservice': 2279, 'discover': 1518, 'bro': 782, 'posed': 3952, 'asking': 449, 'absolute': 175, 'portable': 3950, 'pushed': 4101, 'paperless': 3753, 'biz': 667, 'card': 879, 'solution': 4770, 'tempting': 5157, 'related': 4262, 'rm': 4381, 'lovefresh': 3151, 'nat': 3486, 'geo': 2214, 'article': 436, 'cooler': 1198, 'current': 1317, 'arctic': 417, 'explorers': 1862, 'mistakes': 3375, 'netflix': 3513, 'cwebb': 1332, 'grant': 2315, 'hill': 2494, 'yikes': 5860, 'reached': 4182, 'fanboyism': 1905, 'literally': 3089, 'asleep': 451, 'touch': 5314, 'trackpads': 5328, 'positives': 3957, 'natural': 3488, 'sit': 4668, 'relaxed': 4265, 'wohooo': 5768, 'tnx': 5278, 'red': 4233, 'cross': 1288, 'hands': 2404, 'exquisite': 1867, 'clipcon': 1037, 'intro': 2765, 'reel': 4239, 'suasxsw': 4953, 'sxswaccel': 5036, 'entrepreneur': 1760, 'ceokidschat': 925, 'writer': 5815, 'dawn': 1371, 'circle': 1008, 'result': 4327, 'geekdilemma': 2194, 'ipad1': 2787, 'wipes': 5744, 'donates': 1575, 'mrs': 3450, 'adfonic': 226, 'ðü': 5908, 'lol': 3119, 'gadgetzilla': 2161, 'scared': 4469, 'netbook': 3512, 'fully': 2138, 'granted': 2316, 'edit': 1684, '4square': 113, 'zap': 5879, 'kno': 2946, 'dell': 1422, 'richard': 4354, 'mercy': 3315, 'bb': 593, 'torch': 5306, 'webmail': 5678, 'suppose': 4988, 'cheers': 974, 'eagerly': 1649, 'brain': 745, 'apologies': 383, 'randy': 4166, 'ads': 237, 'popping': 3940, 'algorithm': 294, 'skewed': 4680, 'queries': 4129, 'film': 1979, 'filmaster': 1980, 'screenings': 4500, 'private': 4029, 'recommendations': 4222, 'sense': 4542, 'limit': 3071, 'specific': 4816, 'interview': 2758, 'takeaway': 5085, 'continuous': 1179, 'teach': 5116, 'tax': 5108, 'write': 5814, 'off': 3611, 'kinda': 2933, 'essential': 1782, 'underwire': 5459, 'wired': 5745, 'informal': 2699, 'unscientific': 5483, 'observation': 3602, 'down': 1597, 'contest': 1173, 'alive': 295, 'talks': 5097, 'jonathan': 2866, 'dahl': 1336, 'minimalistprogramming': 3361, 'marissagoogle': 3242, 'realized': 4193, 'havnt': 2437, 'thursday': 5238, 'sprinkle': 4844, 'approval': 409, 'woes': 5767, 'whowillrise': 5713, 'quite': 4142, 'grumbling': 2352, 'v2': 5539, 'meetups': 3301, 'virtualwallet': 5591, 'iphone5': 2798, 'bc': 595, 'standardization': 4859, 'confusion': 1144, 'monthly': 3417, 'value': 5546, '50': 114, 'utility': 5532, 'valuable': 5545, 'sxsweisner': 5041, 'dl': 1549, 'calyp': 855, 'avail': 501, 'analytics': 336, 'offsite': 3621, 'virtual': 5588, 'views': 5582, 'javascript': 2838, 'moreknowledge': 3425, 'mitharvard': 3377, 'view512': 5579, 'sters': 4893, 'madebymany': 3194, 'umshini': 5442, 'wam': 5637, 'fishing': 2004, 'weird': 5691, 'said': 4431, 'liked': 3066, 'esp': 1780, 'footage': 2066, 'revolt': 4344, 'vegan': 5553, 'lazy': 3007, 'smurf': 4736, 'rear': 4199, 'facing': 1886, 'gives': 2244, 'otherwise': 3686, 'actually': 209, 'task': 5102, 'fxsw': 2151, 'courtesy': 1236, 'stranger': 4917, 'investor': 2775, 'utter': 5534, 'cheaper': 966, 'scheduling': 4481, 'flummoxed': 2037, 'shooting': 4613, 'videos': 5576, 'offers': 3615, 'gamelayer': 2172, 'hhrs': 2482, 'guest': 2363, 'godsend': 2262, 'aware': 513, 'lonely': 3120, 'planet': 3889, 'releases': 4269, 'cluttering': 1049, 'handset': 2405, 'bank': 556, '250k': 64, 'bankinnovation': 559, 'barging': 564, 'tables': 5077, 'failure': 1895, 'thingsthatdontgotogether': 5207, 'lisa': 3083, 'rinna': 4370, 'rosso': 4400, 'paste': 3783, 'recipe': 4212, 'mothers': 3432, 'generated': 2208, 'her': 2476, 'leanstartup': 3015, 'supply': 4985, 'chain': 932, 'walmart': 5636, 'behance': 617, 'deleting': 1412, 'loading': 3102, 'draining': 1608, 'cancel': 866, 'recap': 4208, 'seemingly': 4522, 'relive': 4278, 'graphics': 2320, 'faster': 1923, 'motorola': 3434, 'evaporation': 1795, 'tools': 5298, 'approves': 411, 'irelay': 2805, 'project': 4049, 'manager': 3221, 'nowhammies': 3582, 'turning': 5397, 'listened': 3086, 'betterthingstodo': 645, 'freaking': 2101, 'question': 4130, 'trucks': 5369, 'jobsco': 2858, 'clever': 1030, 'recognition': 4216, 'seriousness': 4550, 'cant': 868, 'spell': 4820, 'checking': 969, 'correct': 1219, 'grrr': 2349, 'wrapping': 5813, 'more': 3424, 'posterous': 3963, 'pile': 3862, 'socmedia': 4760, 'square': 4848, 'credit': 1280, 'amazingly': 319, 'load': 3100, 'feelin': 1947, 'every': 1807, '6hours': 130, 'lowest': 3160, 'possible': 3959, 'brightness': 772, 'basics': 576, 'hallway': 2398, 'ux': 5535, 'ia': 2601, 'unite': 5467, 'rachael': 4148, 'harris': 2424, 'doesdroid': 1561, 'puts': 4106, 'famous': 1901, 'artworks': 444, 'billion': 657, 'pixels': 3879, 'allowing': 300, 'zoom': 5896, 'different': 1490, 'trip': 5363, 'museums': 3460, 'edtech': 1687, 'innovators': 2714, 'bringing': 776, 'griddler': 2330, 'lustre': 3173, 'pearl': 3804, '36': 87, 'study': 4943, 'mktg': 3384, 'discussion': 1524, 'flask': 2018, 'sitting': 4672, '9th': 157, 'st': 4852, 'aicn': 270, 'screening': 4499, 'prepared': 3999, 'iloveasurprise': 2632, 'asked': 448, 'remove': 4288, 'deadly': 1379, 'death': 1384, 'valley': 5544, 'wsj': 5820, 'branded': 749, 'native': 3487, 'send': 4540, 'videogame': 5574, 'shat': 4592, 'tear': 5123, 'newapplestoreaustin': 3522, 'target': 5101, 'awesometiming': 520, 'excuse': 1834, 'percentage': 3820, 'participants': 3765, 'walked': 5630, 'appolicious': 404, 'messages': 3317, 'entertaining': 1757, 'phenomenal': 3839, 'venturebeat': 5556, 'appears': 391, 'vb': 5549, 'vicariously': 5570, 'damn': 1344, 'rocking': 4391, 'spasmatics': 4807, 'hp': 2574, 'congratulation': 1146, 'spin': 4828, 'whatcha': 5701, 'television': 5146, 'expierence': 1856, 'spoken': 4834, 'danny': 1355, 'sullivan': 4973, 'larger': 2978, 'kill': 2927, 'wings': 5735, 'drivers': 1618, 'fuel': 2135, 'sem': 4536, 'googlemaps': 2294, 'topnews': 5303, 'matthew': 3269, 'davis': 1368, 'strip': 4932, 'quibids': 4134, 'custom': 1321, 'wearing': 5669, 'openbeta': 3649, 'vip': 5585, 'traded': 5333, 'piece': 3859, 'awesomeness': 519, 'arduino': 418, 'flaming': 2013, 'skulls': 4687, 'smartthings': 4721, 'sharers': 4589, 'join': 2861, 'aos': 377, 'ginger': 2234, 'cards': 880, 'exchange': 1828, 'serious': 4548, 'style': 4951, 'conv': 1183, 'cntr': 1060, 'fashion': 1919, 'gaining': 2165, 'movers': 3440, 'shakers': 4578, 'loyalists': 3161, 'nearly': 3496, 'anyones': 372, 'smarter': 4717, 'knowing': 2949, 'sched': 4476, 'suggest': 4968, 'cursor': 1320, 'btw': 797, 'speaking': 4813, 'surpassed': 4994, 'online': 3642, 'past': 3782, 'discusses': 1523, 'answer': 358, 'ratings': 4178, 'kek': 2906, 'vp': 5613, 'consumer': 1166, 'focus': 2043, 'demoed': 1427, 'augmented': 479, 'reality': 4191, 'webvisions': 5683, 'wil': 5722, 'thats': 5182, 'loyalty': 3162, 'quicker': 4137, 'responses': 4317, 'fh': 1967, 'enable': 1723, 'douche': 1593, 'cake': 845, 'crowley': 1296, 'dodgeball': 1558, 'chrome': 1000, 'calls': 854, 'tub': 5384, 'steamy': 4888, 'mindshare': 3355, 'rim': 4367, 'mnbuzz': 3387, 'berkowitz': 633, 'rfid': 4352, 'ncf': 3494, 'bullish': 811, 'sxswgood': 5044, 'globalbestaward': 2252, 'hmmm': 2517, 'quotable': 4144, 'flip': 2026, 'somebody': 4774, 'consistently': 1161, 'type': 5425, 'goddamn': 2261, '8am': 143, '30pm': 82, 'usefulness': 5522, 'redbull': 4235, 'bpm': 742, 'dj': 1546, 'powering': 3974, 'dtas': 1634, 'republic': 4303, 'charity': 957, 'water': 5659, 'throwin': 5232, 'studentsforcleanwater': 4940, 'org': 3670, 'fusion': 2145, 'election': 1702, 'visualization': 5599, 'greeted': 2328, 'lindsay': 3074, 'stillman': 4897, 'birth': 663, 'fuck': 2131, 'wwsxsw': 5826, 'walk': 5629, 'lady': 2965, 'bird': 661, 'lake': 2966, 'trusted': 5375, 'ironic': 2809, 'tee': 5140, 'usurped': 5531, 'hipster': 2501, 'chic': 981, 'item': 2819, 'frankeninterface': 2099, 'designed': 1442, 'metaphor': 3323, 'uses': 5526, 'macallan': 3182, 'successful': 4958, 'sessions': 4561, 'glass': 2247, 'malt': 3217, 'recording': 4227, 'voluntarily': 5607, 'greatest': 2326, 'collection': 1079, 'egomaniacs': 1698, 'dream': 1612, 'steve': 4894, '188': 43, 'parts': 3770, 'suicidal': 4971, 'chinese': 988, 'tastes': 5103, 'skills': 4684, 'eventseekr': 1802, 'smyle': 4739, 'chat': 961, 'shared': 4588, 'whiteboarding': 5706, 'vintage': 5584, 'format': 2080, 'mostly': 3430, 'ipods': 2801, 'snarky': 4745, 'employees': 1718, 'ah': 264, 'saveustechies': 4453, 'surui': 4999, 'carbon': 878, 'hls': 2514, 'dynamic': 1646, 'insertion': 2720, 'kid': 2921, 'atari': 457, '800': 136, 'able': 173, 'crowdbeacon': 1292, 'put': 4105, 'becoming': 609, 'congratulations': 1147, 'sent': 4543, 'seesmic': 4527, 'convince': 1193, 'comedy': 1090, 'ustream': 5529, 'skyfire': 4688, 'browser': 790, 'safari': 4430, 'eating': 1669, 'coolhaus': 1200, 'airs': 279, 'crew': 1283, 'ripped': 4373, 'crunch': 1297, 'crippling': 1285, 'voice': 5604, 'regular': 4255, 'texting': 5175, 'pants': 3748, 'dock': 1553, 'expect': 1845, 'insidious': 2723, 'approaches': 408, 'subscriptions': 4955, 'disgraceful': 1525, 'libraries': 3050, 'bjdproductions': 669, 'security': 4517, 'guard': 2358, 'unimitated': 5465, 'fingerprint': 1996, 'scan': 4464, '1990style': 45, 'bldg': 676, 'appstore': 413, 'wholistic': 5709, 'awareness': 514, 'strategy': 4921, 'adoption': 235, 'rely': 4280, 'ordered': 3667, 'wasting': 5655, 'fellowship': 1955, 'discovered': 1519, 'conversation': 1189, 'icebreaker': 2606, 'acerbic': 192, 'cynical': 1333, 'crashed': 1258, 'dumped': 1640, 'twitterpower': 5420, 'imthatgood': 2669, 'lasts': 2983, 'awkward': 522, 'framework': 2093, 'lovers': 3155, 'tiff': 5245, 'disappointingly': 1513, 'friendly': 2114, 'ridiculously': 4361, 'al': 283, 'franken': 2098, 'justin': 2888, 'timberlake': 5251, 'unexpected': 5462, 'bonus': 705, 'waking': 5627, '4am': 106, 'communication': 1104, 'bemyneighbor': 626, 'flaw': 2020, 'switch': 5022, 'ipaddesignheadaches': 2792, 'headed': 2446, 'integrated': 2739, 'dynamics': 1647, 'synergy': 5071, 'draw': 1609, 'artist': 440, 'trust': 5374, 'zappos': 5880, 'likability': 3063, 'virgin': 5586, 'focuses': 2044, 'object': 3599, 'survive': 5002, 'succeed': 4956, 'nike': 3548, 'sneakers': 4746, 'geekout': 2200, 'traveller': 5352, 'rpg': 4408, 'stood': 4904, 'minutes': 3366, 'fuckyeah': 2134, 'sam': 4436, 'licked': 3052, 'mapquest': 3232, 'reacquainted': 4183, 'mq': 3448, 'embarrassed': 1713, 'uber': 5428, 'localmind': 3107, 'incredibly': 2683, 'annoyed': 354, 'ui': 5437, 'fat': 1926, 'ûªs': 5915, 'projects': 4052, 'obv': 3607, 'friend': 2113, 'jeff': 2846, 'helped': 2472, 'especially': 1781, '15am': 35, 'ya': 5839, 'psyched': 4078, 'infact': 2692, 'cobra': 1062, 'iradar': 2804, 'detection': 1459, 'ferriss': 1958, 'pie': 3858, 'mylunch': 3475, 'forbidden': 2070, 'spoiled': 4832, 'decision': 1394, 'id': 2608, 'perfect': 3821, 'lists': 3088, 'gtd': 2357, 'syncs': 5070, 'cuz': 1330, 'hilton': 2495, 'salon': 4435, 'filling': 1978, 'quickly': 4138, 'surprises': 4997, 'skill': 4682, 'havent': 2436, 'mccannsxsw': 3280, 'disappointed': 1512, 'overlapping': 3704, 'spins': 4830, 'arsenal': 434, 'jinx': 2852, 'ran': 4162, 'fest': 1960, 'don': 1573, 'fellow': 1954, 'festgoers': 1961, 'alan': 285, 'turing': 5393, 'robot': 4385, 'consumerization': 1168, 'empowered': 1719, 'kh': 2914, 'heavier': 2464, 'giddy': 2227, 'theindustryparty': 5189, 'non': 3559, 'swsurrogates': 5025, 'notpouting': 3576, 'body': 703, 'health2dev': 2452, 'anybody': 368, 'stuck': 4939, 'downloading': 1601, 'startup': 4871, 'gonnagetanipad2': 2276, 'pillow': 3864, 'numbassonfloor': 3589, 'srsly': 4851, 'excludes': 1832, 'insists': 2727, 'disney': 1530, 'spazmatics': 4809, 'franchised': 2094, 'dgtltribe': 1475, 'openbeta6': 3650, 'squeeze': 4850, 'total': 5310, 'scene': 4473, 'spoke': 4833, 'cautiously': 909, 'optimistic': 3659, 'alerts': 292, 'happen': 2414, 'country': 1232, 'united': 5468, 'states': 4875, 'sxswsa': 5056, 'dfp': 1473, 'insight': 2724, 'managing': 3222, 'campaigns': 860, 'measurement': 3289, 'hisxsw': 2510, 'liking': 3069, 'sixth': 4674, 'avenue': 504, 'whale': 5699, '14': 26, 'madness': 3195, 'autocorrect': 495, 'coworkers': 1246, 'visigoths': 5592, 'five': 2008, 'hipstamatic': 2499, 'convore': 1195, 'mashbash': 3259, 'statement': 4874, 'dammit': 1343, 'isack': 2813, 'sweeeet': 5014, 'special': 4815, 'tries': 5361, 'foot': 2065, 'newest': 3523, 'interviewed': 2759, 'thoora': 5219, 'xwave': 5838, 'headsets': 2451, 'notice': 3573, 'prodmktg': 4037, 'recomds': 4219, 'recommends': 4224, 'evolvingworkplace': 1819, 'webdoc': 5676, 'chip': 989, 'brings': 777, 'browsing': 792, 'boost': 713, 'hungry': 2591, 'mekong': 3305, 'river': 4379, 'term': 5162, 'web3': 5673, 'saatchiny': 4425, 'someday': 4775, 'swsx': 5026, 'volume': 5606, 'overwhelming': 3711, 'self': 4531, 'police': 3927, 'curatedebate': 1314, 'leaning': 3014, 'conventions': 1187, 'buttons': 827, 'basis': 577, 'your': 5867, 'ex': 1820, 'stealing': 4885, 'yrs': 5872, 'mkt': 3383, 'passing': 3779, 'hipstermuch': 2502, 'starts': 4870, 'germ': 2217, 'towel': 5323, 'projecting': 4051, 'profits': 4044, 'alone': 303, 'palette': 3736, 'truck': 5368, 'parked': 3762, 'profile': 4043, 'entry': 1761, 'digg': 1492, 'hireme': 2505, 'hire': 2504, 'qualified': 4121, 'talented': 5092, 'women': 5773, 'consciously': 1157, 'startups': 4873, 'achieve': 193, 'tops': 5304, 'visit': 5593, 'wozniak': 5808, 'h4ckers': 2380, 'popped': 3939, 'dreams': 1613, 'ûªm': 5914, 'clothes': 1043, 'compatible': 1113, 'nextflix': 3534, 'hide': 2485, 'straw': 4922, 'lbs': 3009, 'commandeered': 1097, 'relinquish': 4277, 'sxsw11': 5033, 'yo': 5861, 'hated': 2431, 'ubertwitter': 5431, 'waves': 5663, 'webber': 5675, 'searching': 4507, 'cmswire': 1051, 'web30': 5674, 'js': 2878, 'winwin': 5743, 'tigerblood': 5246, 'dear': 1383, 'roll': 4395, 'dog': 1562, 'cart': 888, 'dogs': 1563, 'girl': 2235, 'sharp': 4591, 'strums': 4938, 'installing': 2733, 'paying': 3793, 'dividends': 1545, 'layer': 3006, 'breathtaking': 763, 'shitty': 4610, 'steals': 4886, 'met': 3322, 'ftw': 2130, 'beechwood': 611, 'several': 4569, 'reason': 4200, 'sxsw2011': 5034, 'followers': 2052, 'competitors': 1118, 'eurosxsw': 1793, 'tidbit': 5244, 'echofon': 1674, 'ûïmute': 5923, 'functions': 2142, 'somehow': 4776, 'mozilla': 3445, 'crapkit': 1253, 'webkit': 5677, 'gecko': 2190, 'bandwaggoners': 552, 'woah': 5765, 'cited': 1012, 'opposite': 3658, 'proprietary': 4060, 'csuitecsourcing': 1304, 'amused': 332, 'bahahahaha': 541, 'heatmap': 2459, 'leveraging': 3047, 'quiet': 4139, 'select': 4528, 'streams': 4925, 'incl': 2675, 'streaming': 4924, 'nailed': 3481, 'boundaries': 732, 'offline': 3620, 'bluetooth': 696, 'convinced': 1194, 'trade': 5332, 'failed': 1893, 'willpower': 5728, 'supposed': 4989, 'downstairs': 1604, 'cult': 1306, 'iphones': 2799, 'passed': 3775, 'easily': 1664, 'joined': 2862, 'heaving': 2465, 'flow': 2034, 'showcasing': 4631, 'completely': 1122, 'coffee': 1070, 'issue': 2814, 'solving': 4773, 'handsome': 2406, 'grabs': 2311, 'selection': 4530, 'heavy': 2466, 'duh': 1638, 'sees': 4526, 'evolving': 1818, 'converge': 1188, 'yield': 5859, 'mindjet': 3352, 'mindmanager': 3353, 'prefers': 3992, 'hyped': 2599, 'meh': 3304, 'bang': 554, 'vegas': 5554, 'ces': 931, 'warmer': 5647, 'articles': 437, 'touchingstories': 5317, 'fr': 2090, 'recs': 4231, 'end': 1730, 'sloanxsw': 4705, 'staying': 4882, 'indie': 2687, 'kind': 2932, 'downer': 1598, 'coronasdk': 1214, 'delay': 1408, 'catphysics': 904, 'drug': 1627, 'pusher': 4102, 'international': 2754, 'note': 3568, 'downside': 1603, 'mocked': 3394, 'announced': 349, 'changer': 943, 'happening': 2416, 'interact': 2747, 'megastore': 3303, 'sabotaged': 4427, 'youtube': 5869, 'entire': 1758, 'ecosystem': 1679, 'lifetime': 3057, 'scanner': 4465, 'creators': 1278, 'abandoned': 170, 'stopped': 4906, 'normal': 3564, 'lap': 2974, 'taxi': 5109, 'magic': 3201, 'cabs': 843, 'suspense': 5004, 'dennis': 1434, 'owners': 3715, 'looked': 3127, 'lighters': 3062, 'concert': 1132, 'essentials': 1784, 'energy': 1736, 'sunglasses': 4980, 'rainjacket': 4158, 'mp3': 3447, 'player': 3901, 'earplugs': 1656, 'somewhere': 4780, 'ausxsw': 489, 'chatting': 963, 'banged': 555, 'explaining': 1857, 'realistic': 4190, 'bots': 727, 'experiment': 1852, 'gee': 2191, 'intrvw': 2769, 'govt': 2304, 'vending': 5555, 'machine': 3187, 'svcs': 5008, 'teaching': 5117, 'wew': 5698, 'badger': 537, 'angel': 344, 'playbook': 3899, 'refine': 4243, 'protect': 4062, 'smut': 4737, 'presented': 4005, 'larry': 2980, 'elevation': 1707, 'through': 5229, 'roof': 4398, 'deep': 1397, 'eddy': 1682, 'tea': 5115, 'vodka': 5603, 'factor': 1889, '120': 20, 'letter': 3042, 'wrap': 5811, 'hacker': 2385, 'debuts': 1388, 'steampunk': 4887, '37': 89, 'ft': 2128, 'reclaimed': 4215, 'copper': 1205, 'piping': 3867, 'mini': 3360, 'maglight': 3202, 'etch': 1788, 'sketch': 4678, 'engineer': 1742, 'misstatements': 3373, 'payingwithdata': 3794, 'mega': 3302, 'tether': 5170, 'chargin2diffphonesatonce': 955, 'dorkinout': 1588, 'gamechanger': 2171, 'wave': 5662, 'doubt': 1592, 'apparent': 385, 'removable': 4287, 'batteries': 584, 'alwayshavingtoplugin': 315, 'l8er': 2959, 'closer': 1042, 'owner': 3714, 'stoked': 4901, 'finals': 1989, 'alas': 288, 'overtaken': 3709, 'ahh': 267, 'wonderful': 5775, 'ordering': 3668, 'urs': 5511, 'experimenting': 1853, 'tinkering': 5259, 'nineties': 3550, 'viewed': 5580, 'suffering': 4967, 'donation': 1577, 'program': 4045, 'house': 2569, 'farmers': 1914, 'mobilefarm': 3391, 'double': 1590, 'bloomberg': 691, 'kick': 2917, 'basically': 575, 'foing': 2048, 'potential': 3966, 'applications': 403, 'pair': 3732, 'general': 2206, 'album': 289, 'grab': 2309, 'bruises': 793, 'panelists': 3741, 'regarded': 4246, 'sustainability': 5005, 'corporate': 1215, 'reporting': 4299, 'transparency': 5345, 'dailies': 1337, 'evolve': 1817, 'impossible': 2656, 'mb': 3278, 'downloads': 1602, 'gig': 2229, 'color': 1082, 'preference': 3988, 'sans': 4443, 'techrockstar': 5138, 'priority': 4027, 'smokes': 4730, 'replacing': 4294, 'cam': 856, 'default': 1400, 'pitch': 3872, 'omgz': 3636, 'golds': 2273, 'sooo': 4787, 'amismarternow': 328, 'acknowledge': 194, 'increase': 2681, 'incorrect': 2680, 'shakespeare': 4579, 'pub': 4080, 'delete': 1411, 'button': 826, 'brisk': 778, 'sxxpress': 5062, 'austinites': 485, 'couchfan': 1226, 'lovesit': 3157, 'tramplings': 5339, 'letushopenot': 3045, 'poppop': 3942, 'killers': 2930, 'letschangetheworld': 3041, 'dominance': 1571, 'compels': 1114, 'frickin': 2109, 'cabbies': 840, 'savvy': 4456, 'seem': 4520, 'range': 4167, '2012': 56, 'just': 2887, 'knickers': 2944, 'mobil': 3389, 'workers': 5789, 'telework': 5147, 'fluid': 2036, 'pls': 3913, 'exposing': 1865, 'horrendous': 2555, 'aron': 429, 'pilhofer': 3863, 'khoi': 2916, 'vinh': 5583, 'close': 1039, 'fwd': 2150, 'coolest': 1199, '75': 133, 'barely': 563, 'shrink': 4636, '10k': 12, 'imagine': 2639, 'bavcid': 591, 'box': 735, 'qho': 4112, 'route': 4403, 'feature': 1938, 'pollak': 3931, 'trouble': 5367, 'sxswbigbrands': 5038, 'puppy': 4091, 'fawning': 1935, 'forgotten': 2078, 'uzu': 5537, 'kicking': 2920, 'neither': 3501, 'approved': 410, 'stereo': 4892, 'shiner': 4601, 'crasher': 1259, 'cluster': 1048, 'prepping': 4001, 'dehumanizing': 1407, 'concertgoers': 1133, 'withdrawal': 5754, 'stretches': 4930, 'ballrooms': 548, 'outlandish': 3691, 'partial': 3764, 'fine': 1994, 'deciding': 1393, 'wants': 5645, 'ze': 5884, 'frank': 2097, 'childhood': 984, 'enables': 1725, 'stunning': 4948, 'revelations': 4339, 'buffalo': 800, 'afternoon': 251, 'cab': 839, 'hell': 2469, 'dinner': 1502, 'homepage': 2535, 'woman': 5772, 'housing': 2571, 'frontend': 2119, 'cor': 1208, 'treatment': 5353, 'navigating': 3489, 'worse': 5800, 'walks': 5633, 'adpeopleproblems': 236, 'usb': 5517, 'cord': 1209, 'dfw': 1474, 'admits': 230, 'yobongo': 5862, 'regretting': 4254, 'woops': 5781, 'locals': 3108, 'lining': 3078, 'addicted': 217, 'intense': 2745, '1406': 27, '08': 4, 'deals': 1382, 'packs': 3724, 'giveaways': 2242, 'infektd': 2693, 'wider': 5716, 'detect': 1458, 'zombies': 5893, 'nieuwe': 3544, 'regel': 4247, 'pun': 4090, 'intended': 2744, 'geniuses': 2212, 'nfl': 3537, 'lockout': 3113, 'shinmy': 4602, '40min': 99, 'augmentedreality': 480, 'fave': 1930, 'food4thought': 2059, 'juxtaposed': 2894, 'lybian': 3177, 'rebels': 4205, 'thwarted': 5240, 'gorgeous': 2298, 'reeling': 4240, 'lightbox_photos': 3060, 'although': 312, 'quit': 4141, 'fighting': 1972, '59': 118, 'tm': 5271, 'litle': 3090, 'given': 2243, 'faulty': 1928, 'dies': 1485, 'knows': 2952, 'suckas': 4961, 'conference': 1137, 'aristotle': 425, 'taught': 5106, 'nxt': 3596, 'condense': 1135, 'nine': 3549, 'technical': 5135, 'solutions': 4771, 'human': 2587, 'dat': 1361, 'received': 4209, 'anti': 360, 'petition': 3834, 'behave': 618, 'malady': 3215, 'elbow': 1701, 'heat': 2457, 'suns': 4982, '21': 58, 'haul': 2432, 'innovative': 2713, 'biomimicry': 660, 'oldschool': 3631, 'novideo': 3580, 'veryslow': 5564, 'bet': 639, 'que': 4128, 'watched': 5657, 'season': 4508, 'guild': 2368, 'abt': 177, 'hijack': 2492, 'engines': 1743, 'tht': 5235, 'recognize': 4217, 'pictures': 3857, 'artificial': 439, 'intelligence': 2742, 'nobody': 3555, 'socialviewing': 4757, 'whoohoo': 5710, 'totally': 5312, 'props': 4061, 'agency': 256, 'bluezoom': 697, 'unsix': 5484, 'tweetup': 5414, 'happydance': 2420, 'busdev': 820, 'wr': 5810, 'iads': 2602, 'crazyco': 1267, 'geekfest': 2198, 'brian_lam': 765, 'despite': 1453, 'demonstrate': 1429, 'dilemma': 1498, 'trenches': 5354, 'painful': 3731, 'sleek': 4693, 'repair': 4291, 'damage': 1341, 'microformats': 3331, 'jo': 2854, 'bull': 809, 'courtyard': 1238, 'hirer': 2506, 'expected': 1847, 'midem': 3336, 'climbing': 1035, 'charts': 960, 'math': 3266, '45': 102, 'clocks': 1038, 'awwww': 523, 'boyfriend': 739, 'aw': 509, 'cbatsxsw': 910, 'impression': 2658, 'lemon': 3033, 'backlight': 530, 'bleed': 677, 'thru': 5234, 'bottom': 728, 'enchanting': 1728, 'likeability': 3065, 'trustworthiness': 5376, 'airlines': 275, 'disabilities': 1510, 'insightful': 2725, 'icanhas': 2604, 'fire': 2000, 'thanksforthebrandedshades': 5179, '58': 117, '967': 152, 'visits': 5596, 'ranked': 4169, 'ways': 5665, 'age': 254, '55': 116, 'newsapp': 3526, 'gone': 2274, 'toolongforme': 5297, 'amount': 330, 'beware': 646, 'innacurate': 2707, 'hyatt': 2597, 'sxswfail': 5042, 'wean': 5668, 'addiction': 219, 'nah': 3480, 'paired': 3733, 'oil': 3626, 'companies': 1110, 'monopoly': 3414, 'terms': 5164, 'wary': 5651, 'nick': 3543, 'im': 2633, 'barton': 571, 'creek': 1281, 'mackbook': 3189, 'rows': 4407, 'challenged': 936, 'tdg': 5114, 'kara': 2897, 'swisher': 5021, 'stylish': 4952, 'eric': 1775, 'earned': 1654, 'sleep': 4694, 'anyway': 374, 'race': 4147, 'smartphones': 4720, 'á¾_î¾ð': 5899, '__': 158, '_ô': 166, 'èï': 5907, '_ã': 165, 'öý': 5909, 'çü': 5906, '¼¼': 5898, 'documents': 1557, 'paul': 3788, 'adams': 212, 'chronicling': 1002, 'witty': 5759, 'unlocking': 5477, 'mayor': 3277, 'badges': 538, 'owl': 3712, 'threw': 5227, 'earbuds': 1651, 'symbol': 5065, 'proof': 4058, 'toy': 5325, 'guykawasaki': 2374, 'cashmore': 896, 'crushing': 1298, 'endorsement': 1734, 'grooving': 2336, 'rip': 4372, 'june': 2886, '2010': 54, 'survived': 5003, 'severe': 4570, 'evade': 1794, 'drowning': 1626, '95': 150, 'respecting': 4315, 'personalized': 3832, 'abuzz': 178, 'rendering': 4289, 'pack': 3720, 'solely': 4767, 'min': 3349, 'salesperson': 4434, 'darryl': 1358, 'impulse': 2666, '23': 61, 'ave': 503, '64mb': 128, 'comic': 1095, 'finder': 1991, 'english': 1744, 'japanese': 2835, 'stole': 4902, 'was': 5652, 'shamed': 4583, 'sigh': 4642, '25th': 65, 'ken': 2907, 'calhoun': 847, 'sun': 4977, '5hrs': 121, 'premature': 3993, 'ie': 2619, 'ubuntu': 5434, 'desktop': 1449, 'outdid': 3690, 'broken': 786, 'ketchsx': 2909, 'resume': 4330, 'tethering': 5171, 'blows': 693, 'forgo': 2076, 'liveblog': 3093, 'implementing': 2653, 'brightens': 771, 'guessing': 2362, 'josh': 2869, 'williams': 5725, 'farmville': 1915, 'wakeup': 5625, 'games': 2173, 'totalitarian': 5311, 'worldwide': 5796, 'decide': 1391, 'rediculous': 4238, 'overflow': 3700, 'sxswsmall': 5058, 'cannot': 867, 'silly': 4653, 'ridculous': 4355, 'lie': 3053, 'stars': 4866, 'moody': 3420, 'directors': 1507, 'attracting': 471, 'whimsical': 5704, 'spirit': 4831, 'googledoodles': 2291, 'intentionally': 2746, 'coincide': 1072, 'crafty': 1251, 'wannabe': 5641, 'fanbois': 1903, 'acting': 200, 'giggling': 2231, 'schoolgirls': 4484, 'snagged': 4741, 'supposedly': 4990, 'campus': 862, 'verizon': 5560, 'bandwidth': 553, 'tweeted': 5408, 'dawdled': 1369, 'pull': 4086, 'name': 3483, 'cash': 894, 'suckling': 4963, 'pig': 3860, 'dandy': 1349, 'shirt': 4607, 'compan': 1109, 'pinoy': 3866, 'ûïbuttons': 5919, 'hack': 2383, 'approach': 407, 'skepticism': 4677, 'ûï': 5917, 'amigos': 327, 'broadcastr': 784, 'bestappever': 637, 'farm': 1913, 'emulates': 1722, 'mouse': 3437, 'click': 1031, 'input': 2715, 'futureoftouch': 2149, 'techie': 5131, 'moderator': 3399, 'europe': 1792, '3000': 78, 'roaming': 4384, 'charges': 954, 'monitor': 3413, 'illegal': 2630, 'deforestation': 1405, 'tech4good': 5126, 'replicate': 4296, 'press': 4010, 'miller': 3346, 'shout': 4625, 'khan': 2915, 'academy': 179, 'education': 1688, 'fmsignal': 2042, 'amex': 325, 'partnership': 3769, 'till': 5249, 'juts': 2893, 'war': 5646, 'heats': 2460, 'society': 4758, 'bynd': 837, 'arrived': 431, '30am': 80, 'degrees': 1406, 'wandered': 5638, 'mad': 3192, 'influence': 2695, 'highs': 2491, 'for': 2068, 'quotables': 4145, 'simply': 4657, 'entered': 1755, 'automatically': 499, 'volunteering': 5608, 'boring': 720, 'thumbs': 5236, 'tired': 5265, 'extreme': 1874, 'waterproof': 5660, 'cigarettes': 1006, 'adding': 222, 'handy': 2408, 'starry': 4865, 'thinking': 5209, 'executed': 1835, 'sporting': 4838, 'install': 2731, 'doing': 1564, 'windows7': 5733, 'animation': 347, 'definitely': 1404, 'gadgetenvy': 2159, 'brains': 746, 'contentrules': 1172, 'fastsociety': 1925, 'texasevery': 5173, 'coinsidence': 1074, 'instagram': 2730, 'mister': 3376, 'evo': 1816, 'research': 4307, 'cat': 900, 'comms': 1101, 'remedied': 4283, 'settling': 4567, 'battledecks': 588, 'agencies': 255, 'directions': 1505, 'lab': 2961, 'tmr': 5274, 'fastcompanygrill': 1921, 'fees': 1951, 'booyah': 716, 'gitchococktailon': 2239, 'formation': 2081, 'rebeltv': 4206, 'unreal': 5482, 'clicked': 1032, 'seats': 4511, 'summer': 4975, 'nerdheaven': 3505, 'registration': 4252, 'lmndst': 3099, 'areas': 421, 'filter': 1982, 'grill': 2332, 'customizable': 1325, 'tractor': 5331, 'trailer': 5336, 'justsaying': 2892, 'heads': 2450, 'ixd': 2828, 'domo': 1572, 'tonchidot': 5287, 'hip': 2498, 'preparation': 3997, 'hangover3': 2412, 'socks': 4759, 'git': 2238, 'yer': 5855, 'heart': 2456, 'panned': 3745, 'trumping': 5372, 'rightfully': 4366, 'so': 4749, 'lug': 3169, 'southpaw': 4802, 'lineup': 3077, 'frozen': 2123, 'tmobile': 5273, 'teathering': 5124, 'g2': 2155, 'inspiring': 2729, 'netflixiphone': 3514, 'goog': 2284, 'appletogo': 401, 'costs': 1223, 'louis': 3145, 'vuitton': 5617, 'amble': 322, 'digitalluxury': 1496, 'occasional': 3610, 'row': 4406, 'writing': 5817, 'favorite': 1931, 'backpack': 531, 'mommy': 3406, 'empowering': 1720, 'fight': 1971, 'east': 1665, 'dictators': 1478, 'wireless': 5746, 'api': 381, 'king': 2935, 'accesssxsw': 187, 'publishers': 4083, 'enhancements': 1745, 'th': 5176, 'david': 1367, 'foster': 2086, 'wallace': 5635, 'footnotes': 2067, 'irrelevant': 2810, 'fiendishly': 1970, 'crisis': 1286, 'silver': 4654, 'logo': 3117, 'notionink': 3575, 'adam': 211, 'brands': 750, 'admit': 229, 'aapl': 168, 'horrible': 2556, 'wasted': 5654, 'festivalgenius': 1964, 'notsomuch': 3577, 'revenge': 4340, 'ridicule': 4359, 'unlisted': 5473, 'suddenly': 4965, 'fml': 2041, 'thick': 5202, 'rimmed': 4368, 'glasses': 2248, 'skynet': 4689, 'announce': 348, 'withme': 5756, 'truth': 5377, 'joint': 2864, 'quake': 4119, 'nhk': 3539, 'black': 670, 'precedent': 3984, 'creatures': 1279, 'er': 1773, 'priorities': 4026, 'bnet': 700, 'boxes': 737, 'techenvy': 5129, 'deadline': 1378, 'mistake': 3374, 'jared': 2836, 'implementation': 2652, 'pac': 3718, 'logic': 3114, 'recreated': 4230, 'lax': 3004, 'wife': 5719, 'freespeech': 2104, 'servers': 4555, 'synced': 5067, 'joy': 2874, 'easeljs': 1662, 'canvas': 869, 'brah': 744, 'printed': 4024, 'signed': 4648, 'weinschenk': 5690, 'battle': 587, 'picking': 3853, 'hair': 2391, 'stickers': 4895, 'allhat3': 298, 'hollrback': 2529, 'rocked': 4389, 'demos': 1432, 'sxswparty': 5054, 'mon': 3407, 'podcast': 3922, 'passes': 3778, 'economy': 1678, 'crushit': 1299, 'tye': 5424, 'clark': 1019, 'fabulous': 1881, 'objective': 3600, 'critiques': 1287, 'chng': 991, 'hannukah': 2413, 'miracle': 3367, 'uncharged': 5452, 'detail': 1455, 'bomb': 704, 'adopters': 234, 'ado': 232, 'rebranded': 4207, 'an': 334, 'inner': 2708, 'appleaddiction': 396, 'tracker': 5327, 'overlay': 3705, 'craziness': 1265, 'mantra': 3226, 'pride': 4020, 'guilty': 2369, '7th': 134, 'sin': 4659, 'superbia': 4984, 'turkey': 5394, 'provided': 4069, 'playhopskoch': 3903, 'publishing': 4084, '106': 10, 'hang': 2409, 'debut': 1386, 'eatdrinktweet': 1668, '2day': 68, 'bunch': 816, 'dontbehatin': 1582, 'fandango': 1908, 'karaoke': 2898, 'tkts': 5270, 'canada': 864, 'is': 2812, 'leisure': 3031, 'restful': 4322, 'price': 4018, 'buildings': 807, 'mapped': 3229, 'groupon': 2344, 'igottagetit': 2626, 'baby': 527, 'should': 4622, 'striking': 4931, 'iron': 2808, 'handle': 2402, 'sucked': 4962, 'fly': 2038, 'gr2l2': 2307, 'poole': 3935, 'refrigerator': 4245, 'magnet': 3203, 'flop': 2032, 'acc': 180, 'demonstration': 1431, 'uosxsw': 5492, 'marissamayer': 3243, 'gettinng': 2223, 'venue': 5557, 'sq': 4847, 'boo': 706, 'rallying': 4161, 'massive': 3262, 'relation': 4263, 'alamo': 284, 'cinema': 1007, 'photobooth': 3844, 'corporation': 1216, 'expensive': 1849, 'consultation': 1163, 'tore': 5307, 'celebrating': 914, 'selected': 4529, 'finalist': 1986, 'googlegays': 2292, 'sxswsex': 5057, 'gay': 2185, 'dating': 1366, 'grindr': 2334, 'magazines': 3199, 'truly': 5371, 'emotional': 1716, 'harlow': 2422, 'pragmatic': 3982, 'straight': 4914, 'pitchforks': 3873, 'widfy': 5717, 'rate': 4174, 'torturous': 5309, 'endorsed': 1733, 'html': 2580, 'sliced': 4698, 'bread': 755, 'revolutionary': 4346, 'sis': 4666, 'julie': 2884, 'rockaroke': 4388, 'struggle': 4937, 'hole': 2524, 'religion': 4276, 'atrix': 460, 'california': 848, 'followings': 2054, 'chevytweethouse': 980, 'delivery': 1421, 'meaning': 3285, 'hearing': 2455, 'career': 882, 'eat': 1667, 'rhizome': 4353, 'sxswk': 5047, 'dieing': 1484, 'hunger': 2590, 'postpc': 3964, 'competitor': 1117, 'creeper': 1282, 'suck': 4960, '97': 153, 'realllllllly': 4195, 'options': 3662, 'overload': 3706, 'delivered': 1419, 'curiosity': 1315, 'serendipity': 4547, 'countering': 1230, 'jetlag': 2850, 'ittttt': 2822, 'asddieu': 446, 'pumped': 4088, 'networking': 3516, 'shelves': 4597, 'feeding': 1945, 'frenzy': 2106, 'nokiaconnects': 3558, 'elonsxsw': 1708, 'ubiquity': 5433, 'apis': 382, 'visualizing': 5601, 'government': 2303, 'login': 3116, 'authorization': 492, 'error': 1776, 'employee': 1717, 'psyches': 4079, 'moments': 3405, 'luckily': 3166, 'lucky': 3167, 'latitude': 2992, 'concentrate': 1130, 'teamandroidsxsw': 5121, 'cause': 906, 'mr': 3449, 'heavenly': 2462, 'aka': 281, 'michael': 3330, 'cera': 926, 'bat': 580, 'cameras': 859, 'rigeur': 4364, 'timely': 5256, 'continues': 1178, 'rise': 4375, 'mwrc11': 3471, 'introduces': 2767, 'fair': 1896, 'innovation': 2712, 'dig': 1491, 'sad': 4428, 'chill': 985, 'drives': 1619, 'galore': 2169, 'earphones': 1655, '1k': 47, 'connects': 1155, 'advanced': 238, 'adopter': 233, 'gas': 2179, 'officially': 3619, 'yup': 5874, 'yawn': 5842, 'mbp': 3279, 'transparently': 5346, 'thisisdare': 5216, 'saber': 4426, 'barroom': 566, 'brawls': 752, 'fists': 2005, 'fab': 1879, 'workin': 5790, 'scored': 4492, 'plixi': 3912, '83323324': 140, '83323414': 141, 'familiarize': 1900, 'casually': 899, 'forecast': 2072, 'dow': 1596, 'mood': 3419, 'analysis': 335, 'smvis': 4738, 'imrich': 2668, 'marcelosomers': 3236, 'keys': 2912, 'worn': 5797, 'disagree': 1511, 'peter': 3833, 'minor': 3362, 'improvement': 2663, 'burn': 817, 'severely': 4571, 'autistic': 493, 'mastered': 3263, 'puzzles': 4108, 'rumours': 4419, 'bavc': 590, 'dashboard': 1360, 'collect': 1078, 'host': 2558, 'visualize': 5600, 'competition': 1116, 'winners': 5737, 'initial': 2704, 'impressions': 2659, 'nvidia': 3595, 'gaming': 2176, 'nope': 3563, 'seattle': 4512, 'restored': 4325, 'unleash': 5471, 'mixed': 3379, 'magnetic': 3204, 'overall': 3697, 'improvemnt': 2665, 'restore': 4324, 'dali': 1340, 'pak': 3734, 'vacation': 5542, 'exploiting': 1860, 'return': 4334, 'policy': 3928, 'imacs': 2636, 'ahhh': 268, 'darn': 1357, 'according': 189, 'ûïmore': 5922, 'assisted': 453, 'toast': 5280, 'australian': 488, 'digibiz': 1494, 'sides': 4641, 'killcommunity': 2928, 'twnp': 5421, 'blame': 674, 'fixing': 2012, 'preferrably': 3990, 'hashtags': 2428, 'deficit': 1401, 'banking': 557, 'tron': 5365, 'swish': 5020, 'scenes': 4474, 'blueray': 695, 'eminent': 1715, 'thoughtful': 5222, 'handwriting': 2407, 'conquered': 1156, 'hairy': 2392, 'butts': 828, 'fessing': 1959, 'admitting': 231, 'cohen': 1071, 'comcom': 1088, 'mike': 3342, 'tyson': 5427, 'wanting': 5644, 'unconfirmed': 5453, 'crossing': 1290, 'covering': 1242, 'asks': 450, 'reid': 4258, 'hoffman': 2521, 'summit': 4976, 'delight': 1416, 'floor': 2031, 'fondling': 2056, 'disturbing': 1541, 'ground': 2338, 'am': 316, 'blacked': 673, 'realizing': 4194, 'are': 419, 'designers': 1444, 'googleplaces': 2295, 'knockout': 2947, 'ireport': 2806, 'berklee': 632, 'topspin': 5305, 'class': 1020, 'apples': 399, 'woke': 5769, 'sandwiched': 4441, 'spring': 4843, 'break': 756, 'depressed': 1439, 'ûójust': 5930, 'macbooks': 3185, 'grouped': 2342, 'aber': 171, 'leider': 3030, 'nur': 3591, 'fì_r': 2153, 'livingthedream': 3098, 'ncaa': 3493, 'mmod': 3386, 'flawless': 2021, 'livesteam': 3095, 'bracket': 743, 'mute': 3469, 'plancast': 3886, 'exported': 1864, 'san': 4439, 'diego': 1483, 'pacific': 3719, 'shift': 4599, 'central': 920, 'tme': 5272, 'wack': 5621, 'mix': 3378, 'barrydiller': 568, 'james': 2831, 'franco': 2096, 'expert': 1854, 'demand': 1424, 'insatiable': 2719, 'surrounded': 4998, 'aquent': 414, '1415': 29, 'bereft': 630, 'wanderer': 5639, 'limp': 3073, 'lifeless': 3055, 'poetry': 3923, 'vufinders': 5616, '3x': 96, 'speedup': 4819, 'tagging': 5083, 'clear': 1027, 'points': 3926, 'throughout': 5230, 'overview': 3710, 'plunge': 3917, 'panhandling': 3743, 'what': 5700, 'tshirt': 5381, 'strangers': 4918, 'crash': 1257, '10mins': 13, 'fuckit': 2133, 'illmakeitwork': 2631, 'rockstache': 4393, 'techsmith': 5139, 'istache': 2816, '3blks': 90, 'address': 225, 'yeasayer': 5849, 'failing': 1894, 'paid': 3730, 'idontbelieve': 2618, 'helpful': 2473, 'three': 5226, 'artistic': 441, 'protecting': 4063, 'someones': 4778, 'thewildernessdowntown': 5200, 'thomas': 5218, 'gayno': 2186, 'choreography': 996, 'blurs': 698, 'avoid': 507, 'collectively': 1081, 'assistivetech': 454, 'augcomm': 478, 'hcsm': 2442, 'mhealth': 3327, 'covet': 1243, 'pp': 3978, '2yrs': 74, 'locating': 3109, 'earlier': 1652, 'tt': 5383, 'ff': 1966, 'bashing': 573, 'consistent': 1160, 'wowwwwww': 5807, 'periscope': 3825, 'danfung': 1350, 'demoing': 1428, 'immersive': 2643, 'rig': 4363, 'debating': 1385, 'role': 4394, 'enjoyed': 1747, 'existent': 1841, 'owllove': 3713, 'passport': 3780, 'pg': 3837, 'script': 4501, 'mock': 3393, 'remembered': 4285, 'horror': 2557, 'movies': 3443, 'yellow': 5851, 'pages': 3729, 'practice': 3981, 'abacus': 169, 'unloaded': 5474, 'refresh': 4244, 'åç': 5904, 'rails': 4156, 'deliver': 1418, 'confession': 1139, 'dom': 1569, 'organizing': 3676, 'denies': 1433, 'reily': 4260, 'pissedimnotgoingtosxsw': 3869, 'wknd': 5764, 'phew': 3840, 'beginning': 615, 'panic': 3744, 'innovating': 2711, 'talib': 5093, 'kweli': 2957, 'gogo': 2268, 'evening': 1797, 'karateka': 2899, 'castle': 898, 'wolfenstein': 5770, 'choplifter': 995, 'classics': 1022, 'oldsko0l': 3632, 'dan': 1346, 'neumann': 3518, 'organic': 3671, 'broadfeed': 785, 'ones': 3641, 'mypov': 3476, 'chevy': 977, 'cruze': 1300, 'losers': 3138, 'investors': 2776, 'propping': 4059, 'frothy': 2122, 'enterprise': 1756, 'teleporting': 5145, 'capabilities': 870, 'nokia': 3557, 'pushsnowboarding': 4104, 'shill': 4600, 'underestimate': 5454, 'appeal': 388, 'mayers': 3276, '12': 19, 'desperately': 1452, 'drooling': 1622, 'sillier': 4652, 'ended': 1732, 'ninja': 3552, 'wars': 5650, 'shoulda': 4623, 'wanna': 5640, 'producers': 4039, 'whether': 5702, 'nab': 3479, 'played': 3900, 'fruit': 2124, 'tnw': 5277, 'plaid': 3883, 'boys': 741, 'attracted': 470, 'define': 1402, 'thereby': 5198, 'defining': 1403, 'values': 5547, 'consumerist': 1167, 'tournament': 5321, 'pitted': 3875, 'round': 4402, 'swing': 5019, 'actsofsharing': 207, 'anticipate': 361, 'toting': 5313, 'inventing': 2771, 'dislike': 1528, 'innovate': 2710, 'fathom': 1927, 'succumb': 4959, 'upgrading': 5501, 'highlights': 2489, 'thus': 5239, 'istock': 2817, 'singularity': 4664, 'oy': 3717, 'das': 1359, 'verpixelungsrecht': 5561, 'ûóthe': 5932, 'pixelated': 3878, 'theft': 5187, 'hangover': 2411, 'breakfast': 758, 'yummy': 5873, 'tunes': 5392, 'griffin': 2331, 'cordless': 1210, 'told': 5283, 'brief': 769, 'paradigms': 3757, 'grrrr': 2350, 'muting': 3470, 'omitting': 3637, 'effective': 1692, 'h264': 2378, 'browserwars': 791, 'petricone': 3835, 'quantter': 4124, 'participating': 3766, 'launchrock': 2999, 'comp': 1107, 'ing': 2702, 'rating': 4177, 'recommendation': 4221, 'ip': 2784, 'hhaha': 2481, 'intimidated': 2761, 'unveils': 5491, 'greater': 2324, 'waaaaaa': 5620, 'sony': 4784, 'xperia': 5836, 'tuesday': 5386, 'heattracker': 2461, 'temperatures': 5152, '20s': 57, 'wkend': 5763, 'mass': 3260, 'influx': 2697, 'combine': 1086, 'flavor': 2019, 'abroad': 174, '4g': 109, 'connectivity': 1154, 'joe': 2859, 'berry': 635, 'connectedcar': 1152, 'g03mzb': 2154, 'inspired': 2728, 'ed': 1680, 'justinjustinjustin': 2889, 'curious': 1316, 'ref': 4241, 'favour': 1934, '150m': 33, 'noes': 3556, 'rejection': 4261, 'gotten': 2301, 'pleased': 3909, 'clients': 1034, 'anxious': 367, 'wonders': 5777, 'kingston': 2936, 'cheer': 973, 'reasonable': 4201, 'auth': 490, 'computers': 1128, 'fantastico': 1911, 'toooo': 5299, 'road': 4382, 'dawg': 1370, 'observations': 3603, 'vast': 5548, 'majority': 3209, 'appletakingoverworld': 400, 'ogilvy': 3623, 'autocorrects': 497, 'idiocy': 2614, 'ogilvynotes': 3624, 'peaked': 3803, 'surface': 4993, 'complex': 1124, 'intricate': 2763, 'underneath': 5455, 'agenda': 257, 'reminding': 4286, 'facts': 1890, 'belong': 624, 'strive': 4933, 'complement': 1120, 'artwork': 443, 'showcases': 4630, 'equity': 1772, 'attached': 462, 'honor': 2538, 'landlords': 2970, 'leasing': 3021, 'agents': 258, 'utilize': 5533, 'shops': 4615, 'millions': 3348, 'docs': 1555, 'incenticize': 2674, 'teams': 5122, 'cashmere': 895, 'parachute': 3756, 'andrew': 339, 'prx': 4072, 'equates': 1771, 'homogeneity': 2536, 'predictability': 3986, 'west': 5696, 'imaconf': 2635, 'drumbeat': 1628, 'mojo': 3400, 'urthots': 5512, 'guru': 2372, 'express': 1866, 'scepticism': 4475, 'surplus': 4995, 'leash': 3020, 'payments': 3795, 'yowza': 5870, 'myegc': 3474, 'stats': 4878, 'coolaid': 1197, 'intel': 2741, 'thegogame': 5188, 'revealed': 4337, 'team_android': 5119, 'euphoria': 1791, 'centric': 922, 'advantage': 239, 'teeth': 5143, 'hawt': 2439, 'howmto': 2573, 'usdes': 5518, 'learnt': 3019, 'jesus': 2848, 'allhat': 297, 'arriving': 433, '2åê': 75, 'macbookpro': 3184, 'pandora': 3738, 'stumbledupon': 4946, 'holytrafficjams': 2532, 'ûïline': 5921, 'signals': 4647, 'cedar': 912, 'sxswbarcrawl': 5037, 'gun': 2371, 'nutshell': 3593, 'pseudoretweet': 4074, 'democracy': 1426, 'mobs': 3392, 'hive': 2513, 'again': 252, 'affirmative': 247, 'nptech': 3584, 'multiple': 3455, 'monetization': 3410, 'cheapen': 965, 'etsy': 1790, 'realtalk': 4197, 'stops': 4907, 'argues': 423, 'exceptionally': 1827, 'frm': 2116, 'comments': 1099, 'h2o': 2379, '8th': 146, 'cheap': 964, 'excel': 1824, 'buzzmetrics': 835, 'radian6': 4150, 'altimeter': 313, 'sloansxsw': 4704, 'beyondwc': 648, '101': 9, 'standard': 4858, 'csr': 1302, 'janecek': 2833, 'bright': 770, 'develop': 1461, 'chilltab': 986, 'damon': 1345, 'upstairs': 5508, 'guardian': 2359, 'eye': 1875, 'sd': 4502, 'storage': 4908, 'iusxsw': 2826, 'cried': 1284, 'frid': 2111, 'compact': 1108, 'disk': 1527, 'mill': 3345, 'slightly': 4701, 'thinner': 5212, 'earths': 1661, 'smudgy': 4734, 'fundraising': 2143, 'kiosk': 2937, 'waze': 5666, 'duking': 1639, 'mapping': 3231, 'maudies': 3270, 'tacos': 5081, 'ajs2011': 280, 'diabetes': 1476, 'plate': 3895, 'absolutely': 176, 'schtuff': 4486, 'iqlab': 2803, '_______': 162, 'answered': 359, 'looseorganizations': 3133, '30p': 81, 'saturday': 4447, 'andro': 341, 'curated': 1313, 'quotes': 4146, 'donate': 1574, 'victims': 5571, 'preferences': 3989, 'seenocreepy': 4525, '16gb': 40, 'go2': 2259, 'antonio': 364, 'kudos': 2956, 'quarter': 4126, 'tbwasxsw': 5110, 'sat': 4445, 'convenient': 1184, 'speaks': 4814, 'demonstrates': 1430, 'pause': 3790, 'tveverywhere': 5401, 'mindtouchers': 3357, 'mindtouch': 3356, 'tcs': 5113, 'tweethouse': 5409, 'rana': 4163, 'dotco': 1589, 'backupify': 533, 'announces': 352, 'cloudsight': 1046, 'searchable': 4505, 'archive': 416, 'ge': 2188, 'solar': 4765, 'powered': 3971, 'carousel': 884, 'park': 3761, 'amen': 323, 'studying': 4944, 'flocking': 2029, 'swarming': 5010, 'behavior': 620, 'collab': 1077, 'due': 1637, 'showcase': 4628, 'bounced': 730, 'admired': 227, 'classy': 1024, 'rerouted': 4305, 'images': 2638, 'jcpenney': 2840, 'macys': 3191, 'trashy': 5347, 'restraunts': 4326, 'implode': 2654, 'activity': 205, 'lightbox': 3059, 'finalists': 1987, 'mk': 3381, 'claims': 1017, 'ratio': 4179, 'raffled': 4153, 'inbox': 2672, 'peer': 3810, 'ecodriving': 1676, 'habits': 2382, 'ûï35': 5918, 'cunning': 1308, 'lat': 2984, 'deliciously': 1414, 'cartel': 889, 'military': 3344, 'scientific': 4489, 'dictatorship': 1479, 'takeover': 5087, 'rant': 4172, 'deviantart': 1467, 'buys': 832, 'tests': 5169, 'muro': 3456, 'drawing': 1610, 'htt': 2582, 'beards': 602, 'hollywood': 2530, 'silicon': 4651, 'meets': 3299, 'nyc': 3597, 'sunny': 4981, 'pool': 3934, 'cowboy': 1245, 'boots': 715, 'vibe': 5569, 'epicurious': 1770, 'moma': 3402, 'guards': 2360, 'reports': 4300, 'unveil': 5488, 'fed': 1943, 'angrybirds': 346, 'julian': 2883, 'screamed': 4495, 'zone': 5895, 'pigfucker': 3861, 'snakeheead': 4742, 'fodder': 2046, 'snubor': 4748, 'gains': 2166, 'traction': 5330, 'knife': 2945, 'psfk': 4075, 'gabacustweets': 2157, 'brk': 781, 'geeking': 2199, '4android': 107, 'integration': 2740, 'mappers': 3230, 'gallery': 2168, 'daniel': 1354, 'johnston': 2860, 'gatekeeper': 2181, 'ht': 2578, 'pixel': 3877, 'aim': 272, 'promote': 4055, 'communal': 1102, 'restaurants': 4321, 'recos': 4228, 'um': 5438, 'skiers': 4681, 'overlaid': 3703, 'mountain': 3435, 'empty': 1721, 'positioning': 3954, 'savebrands': 4450, 'latina': 2989, 'porn': 3949, 'latism': 2991, 'sxswlatam': 5048, 'latinasintech': 2990, 'providing': 4070, 'tested': 5167, '41': 100, 'difference': 1489, 'nuances': 3587, 'matter': 3268, 'rww': 4424, 'f6bcet': 1878, 'goody': 2283, 'incapable': 2673, 'disruptive': 1535, 'acquired': 197, '89': 142, 'extolling': 1870, 'coolness': 1201, 'vmware': 5602, 'talent': 5091, 'signing': 4649, 'jaloux': 2830, 'school': 4483, 'skinny': 4685, 'flannel': 2014, 'beard': 601, 'imanoutcast': 2641, 'hah': 2388, '2moro': 70, 'organize': 3674, 'realtime': 4198, 'ducks': 1635, 'client': 1033, 'foodies': 2060, 'arw': 445, 'dine': 1501, 'oversized': 3708, 'pluged': 3915, 'loose': 3132, 'laws': 3003, 'pot': 3965, 'huzzah': 2596, 'umassjour': 5439, 'nerdsunite': 3508, 'fit': 2006, '400': 98, 'shuffling': 4637, 'eyes': 1877, 'effing': 1694, 'hubby': 2585, 'number': 3590, 'referrals': 4242, '12th': 23, 'zaarlyiscoming': 5876, 'coupons': 1234, 'dodo': 1559, 'memolane': 3308, '12b': 22, 'jr': 2877, 'unstable': 5485, 'nten': 3585, '11ntc': 17, 'raised': 4159, 'gotto': 2302, 'shallow': 4581, 'austincrowd': 484, 'aiding': 271, 'size': 4675, 'googled': 2289, 'direction': 1504, 'slips': 4703, 'jammy': 2832, 'bugger': 802, 'fastcompanygrille': 1922, 'makery': 3211, 'zaggle': 5878, 'zms': 5892, 'lamesauce': 2968, 'finished': 1999, 'sightings': 4644, 'piss': 3868, 'pissing': 3870, 'kiiiiiilling': 2925, 'survey': 5000, 'starbucks': 4863, 'gratification': 2322, 'tweetignite': 5411, 'marc': 3235, 'ecko': 1675, 'autodial': 498, 'political': 3929, 'edreform': 1686, 'eduvc': 1690, 'fightthepaddle': 1973, 'cm48': 1050, 'circus': 1010, 'workspace': 5793, 'virtualoffice': 5590, 'tool': 5295, 'measuring': 3290, 'displaying': 1533, 'cry': 1301, 'slp': 4710, 'videogames': 5575, 'cartoon': 890, 'ûïview': 5926, 'stumbling': 4947, 'contact': 1170, 'application': 402, 'fricking': 2110, 'science': 4488, 'readership': 4186, 'opportunity': 3657, 'ignore': 2625, 'boyfriends': 740, 'donline': 1580, 'dk': 1548, 'nerdbird': 3503, 'wal': 5628, 'mart': 3253, 'ooooo': 3647, '300': 77, 'suxsw': 5007, 'throw': 5231, 'tchin': 5112, 'papa': 3750, 'sangre': 4442, 'audio': 477, 'recommended': 4223, 'papasangre': 3751, 'journalsim': 2872, 'informed': 2701, 'populous': 3944, 'themed': 5192, 'costume': 1224, 'yep': 5854, 'organization': 3673, 'poor': 3936, 'coincides': 1073, 'begin': 614, 'weeping': 5688, 'preparing': 4000, 'qrafter': 4114, 'vcards': 5550, 'qrcode': 4116, 'questioner': 4131, 'caused': 907, 'giggle': 2230, 'laugh': 2993, 'https': 2584, 'borderstylo': 718, 'machines': 3188, 'electronics': 1703, 'smm': 4728, 'exactly': 1821, 'slice': 4697, 'pcbuzz': 3798, 'intrestin': 2762, 'pauly': 3789, 'celebs': 915, 'simplicity': 4656, 'cn': 1053, 'zazzlsxsw': 5883, 'member': 3307, 'carrying': 887, 'bags': 540, 'wolfram': 5771, 'sheraton': 4598, 'smartest': 4718, 'imho': 2642, 'shut': 4638, 'i41h53': 2600, 'breakdown': 757, '98': 154, '03': 2, '02': 1, 'symbian': 5064, 'kickass': 2918, 'sms': 4732, 'pink': 3865, 'soundtrckr': 4798, 'staff': 4855, 'facepalmed': 1884, 'ugh': 5435, 'longlinesbadux': 3124, 'strange': 4915, 'penetrates': 3813, 'bubble': 798, 'tvs': 5403, 'scarbrough': 4468, 'closed': 1040, 'cops': 1206, 'barring': 565, 'ludicon': 3168, 'ossum': 3683, 'cut': 1326, 'cocaine': 1063, 'facetime': 1885, 'mel': 3306, 'gibson': 2226, 'cartoonishly': 891, 'large': 2977, 'cstejas': 1303, 'fin': 1984, 'serv': 4551, 'operators': 3655, 'banks': 560, 'bankinnovate': 558, 'judging': 2879, 'designingforkids': 1447, 'relationship': 4264, 'sapient': 4444, 'upside': 5507, 'designer': 1443, 'train': 5337, 'thier': 5203, 'former': 2082, 'chief': 982, 'officer': 3617, 'advisory': 244, 'innotribe': 2709, 'openexhibits': 3652, 'wakeuplaughing': 5626, 'itun': 2823, 'es': 1778, 'ifr3dw': 2622, 'ray': 4180, 'additional': 224, 'npr': 3583, 'songs': 4782, 'named': 3484, 'ten': 5158, 'decent': 1390, 'heating': 2458, 'rewards': 4349, 'titles': 5268, 'pep': 3817, 'upc': 5495, 'edition': 1685, '2nite': 72, 'b4': 525, 'hosting': 2560, 'cmty': 1052, 'mngr': 3388, '8p': 144, 'haven': 2435, 'relic': 4273, 'topicality': 5301, 'reputation': 4304, 'rules': 4415, '96': 151, 'eyeballed': 1876, 'ip4': 2785, '1413': 28, 'glenda': 2249, 'watson': 5661, 'cerebral': 928, 'palsy': 3737, 'communicate': 1103, 'lobby': 3104, 'speller': 4821, 'autocorrected': 496, 'impactdashboard': 2648, 'become': 608, 'cle': 1025, 'motherboard': 3431, 'developed': 1462, 'cheese': 975, 'valid': 5543, 'tho': 5217, '2honor': 69, 'suffered': 4966, 'zazzle': 5881, 'grille': 2333, 'mania': 3224, 'filters': 1983, 'v1': 5538, 'crapped': 1254, 'goers': 2264, 'sore': 4788, 'amusing': 333, 'starbu': 4862, 'cks': 1016, 'acrosse': 199, 'unpack': 5480, 'creatively': 1275, 'socialmediabum': 4755, 'honors': 2539, 'conversations': 1190, 'from': 2117, 'powerful': 3972, 'motivator': 3433, 'earbud': 1650, 'headphones': 2449, 'cables': 842, 'museum': 3459, 'magnifying': 3205, 'vectors': 5552, 'dimensional': 1500, 'transition': 5342, 'cup': 1309, 'leaked': 3013, 'goo': 2277, 'jqtouch': 2876, 'geekery': 2196, 'pix': 3876, 'mirroring': 3368, 'hdmi': 2443, 'cable': 841, 'gents': 2213, 'scouts': 4494, 'planting': 3893, 'atms': 459, 'ca': 838, 'thinmints': 5211, 'bastards': 579, 'obviously': 3609, 'shell': 4596, '1500': 32, 'visiting': 5594, 'accommodate': 188, 'influencers': 2696, 'dropped': 1624, 'estate': 1785, 'invest': 2773, '0310apple': 3, 'bestie': 638, 'recipes': 4213, 'hype': 2598, 'viagra': 5568, 'communications': 1105, 'expansion': 1844, 'outlook': 3693, 'antwoord': 365, 'korine': 2954, '11th': 18, 'lynn': 3179, 'teo': 5161, 'alphagraphics': 306, 'laser': 2981, 'prints': 4025, 'optimized': 3660, 'ripping': 4374, 'joomla': 2867, 'gah': 2163, 'torture': 5308, 'addictedtotheinterwebs': 218, 'yea': 5844, 'bricklin': 767, 'notetaker': 3570, 'chokes': 993, 'tougher': 5319, 'colin': 1076, 'quinn': 4140, 'environment': 1764, 'theplatform': 5194, 'googlebread': 2287, 'lil': 3070, 'crappy': 1255, 'crazyfest': 1268, 'rolled': 4396, 'functionality': 2141, 'africans': 250, 'capped': 872, 'iwantacameraonmyipad': 2827, 'mkesxsw': 3382, 'wisconsin': 5748, '17': 42, 'ink': 2706, 'miamibeach': 3328, 'enviro': 1763, 'bin': 658, 'greatergood': 2325, 'routing': 4405, 'copia': 1204, 'cocoon': 1065, 'messenger': 3320, 'redbox': 4234, 'gilt': 2233, 'graphic': 2319, 'sesh': 4559, 'dawned': 1372, 'timed': 5254, 'gain': 2164, 'maximum': 3272, '16162': 38, 'allows': 301, 'benefit': 628, 'ma': 3180, 'zing': 5889, 'sxsurrogates': 5031, 'atzip': 474, 'swift': 5018, 'upbeat': 5494, 'rises': 4377, 'dangling': 1353, 'lions': 3082, 'irresistible': 2811, 'unfair': 5463, 'borrowing': 723, 'chk': 990, 'slow': 4706, 'idiot': 2615, 'smcomedyfyeah': 4725, '81': 138, 'worried': 5798, 'midway': 3339, 'toured': 5320, 'shaping': 4585, 'toocoolforsxswanyway': 5292, 'preparations': 3998, 'beach': 598, 'geekspringbreak': 2202, 'antigov': 362, 'lobbying': 3105, 'initiative': 2705, 'invoking': 2781, 'puregenius': 4098, 'path': 3786, 'weight': 5689, 'lockers': 3112, 'registrant': 4251, 'juiced': 2881, 'sonos': 4783, 'side': 4640, 'cactus': 844, 'balcony': 545, 'shatter': 4593, 'gogglers': 2266, 'marketer': 3248, 'newspapers': 3529, 'permanently': 3827, 'convience': 1192, 'drunk': 1630, 'hahaha': 2390, 'ships': 4606, 'methinks': 3324, 'capitol': 871, 'fulltime': 2137, 'eh': 1699, 'nudgenudge': 3588, 'actors': 206, 'diet': 1486, 'planzai': 3894, 'tipped': 5263, 'creates': 1272, 'peddle': 3805, 'daylight': 1374, 'savings': 4455, 'bug': 801, 'whoops': 5712, 'sells': 4535, 'ughhh': 5436, 'domain': 1570, 'rain': 4157, 'purchases': 4095, 'regrets': 4253, 'disrupts': 1536, 'preferred': 3991, 'tune': 5389, 'groupchatapps': 2341, 'orlando': 3679, 'attended': 465, '100tc': 8, 'felt': 1956, 'prob': 4033, 'sxprotect': 5029, 'renders': 4290, 'landscapes': 2972, 'included': 2677, 'basic': 574, 'percent': 3819, 'understanding': 5457, 'internetonlinewebsite': 2756, 'perserverance': 3828, 'vote': 5611, 'husband': 2595, 'depeche': 1438, 'prettycool': 4014, 'chevysxsw': 979, 'ringing': 4369, 'softlayer': 4763, 'server': 4554, 'challenge': 935, 'äá': 5902, 'hash': 2425, 'nerdiest': 3506, 'spiltbeer': 4827, 'consequences': 1158, 'generally': 2207, 'doubly': 1591, 'handicapped': 2400, 'assume': 455, 'ditch': 1542, 'previous': 4017, '47': 104, 'nutters': 3594, 'ipading': 2793, 'techno': 5136, 'mecca': 3292, 'seated': 4510, 'bowl': 734, 'armadillo': 427, 'frabjous': 2091, 'callooh': 853, 'callay': 850, 'baaah': 526, 'ûólewis': 5931, 'carroll': 885, 'swarms': 5011, 'distract': 1539, 'pubs': 4085, 'sez': 4574, 'exp': 1843, 'delivering': 1420, 'elusive': 1710, 'radical': 4151, 'arcade': 415, 'wilderness': 5724, 'frustrating': 2126, 'zeldman': 5886, 'zelda': 5885, 'jzsxsw': 2896, 'whoooooo': 5711, 'described': 1440, 'orly': 3680, 'lanyrd': 2973, 'basket': 578, 'v3': 5540, 'stepped': 4891, 'ûïfoursquare': 5920, 'temperature': 5151, 'fiving': 2010, 'sec': 4513, 'enuf': 1762, 'chumps': 1003, 'nightjar': 3547, 'ability': 172, 'brushstroke': 794, 'loveher': 3152, 'xplat': 5837, 'promises': 4053, 'ther': 5195, 'deck': 1395, 'unlockable': 5476, 'googleblog': 2286, 'imo': 2645, 'balckberries': 544, 'andriod': 340, 'durable': 1642, 'therefore': 5199, 'repressed': 4301, 'memories': 3309, 'spinning': 4829, 'ball': 546, 'progressbar': 4047, 'respectfully': 4314, 'ubiquitous': 5432, 'project314': 4050, 'popupshop': 3946, 'adaptive': 214, 'skillfully': 4683, 'cupertino': 1311, 'over': 3696, '310409h2011': 83, 'plain': 3884, 'itself': 2821, 'proud': 4066, 'scoping': 4490, 'proven': 4067, 'untrue': 5487, 'announcement': 350, 'everyday': 1809, 'macs': 3190, 'monster': 3415, 'anxiety': 366, 'fits': 2007, 'personalcloud': 3831, 'merchant': 3314, 'ûïspecials': 5924, 'flashspecial': 2017, 'thunder': 5237, 'we': 5667, '2b': 67, 'niceness': 3542, 'september': 4546, 'spontaniety': 4837, 'bday': 596, 'pressie': 4011, 'wkd': 5762, 'indigenous': 2688, 'tribes': 5358, 'statuses': 4880, 'forests': 2073, 'booze': 717, 'frood': 2120, '157': 34, 'gigs': 2232, 'circusmash': 1011, 'ecademy': 1673, 'itme': 2820, '30a': 79, 'manhandling': 3223, 'unoffic': 5478, '90': 147, 'tan': 5098, 'coverage': 1240, 'position': 3953, 'china': 987, 'suicide': 4972, 'rates': 4175, 'adventure': 241, 'aclus': 196, 'cites': 1013, 'resting': 4323, 'leisurely': 3032, 'desktops': 1450, 'slower': 4707, 'nevertheless': 3520, 'hints': 2497, 'messed': 3319, 'yonkers': 5863, 'ming': 3359, 'moves': 3441, 'stays': 4883, 'hurt': 2594, 'sending': 4541, 'lorry': 3136, 'riots': 4371, 'ensue': 1752, 'lazyweb': 3008, 'mixing': 3380, 'globally': 2253, 'implement': 2651, 'eventually': 1803, 'theem': 5186, 'spazmatic': 4808, 'hoooooooooooooo': 2543, 'register': 4249, 'liberty': 3049, 'and': 337, 'sxswpass': 5055, 'experiential': 1851, 'xm': 5832, 'popplet': 3941, 'hordes': 2554, 'purchasers': 4094, 'tweeps': 5404, 'ical': 2603, 'goin': 2269, 'seta': 4563, 'educational': 1689, 'tunehopper': 5391, 'gmail': 2257, 'synching': 5068, 'socialmuse': 4756, 'lookalike': 3126, 'appcircus': 387, 'tweetie': 5410, 'leopard': 3036, 'pariah': 3760, 'activate': 203, 'cellular': 917, 'warning': 5649, 'loves': 3156, 'obsessed': 3605, 'feckin': 1942, 'scary': 4471, 'boss': 724, 'recognizing': 4218, 'relevance': 4271, 'corps': 1217, 'syked': 5063, 'topics': 5302, 'sexy': 4573, 'soul': 4793, 'rotational': 4401, 'viewing': 5581, 'mail': 3207, 'finish': 1998, 'wundertablet': 5824, 'touching': 5316, 'complicated': 1125, 'naive': 3482, 'wishful': 5751, 'semis': 4539, 'filled': 1977, 'masses': 3261, 'bump': 814, 'ensues': 1753, 'ûïthe': 5925, 'messina': 3321, 'knowledge': 2950, 'identity': 2613, 'leo': 3035, 'email': 1711, 'disneyland': 1531, 'happiest': 2417, 'resetting': 4308, 'produced': 4038, 'spazzmatics': 4810, 'slick': 4699, 'conveniently': 1185, 'rf': 4351, 'dissapointment': 1537, 'foosspotting': 2064, 'guides': 2367, 'bumped': 815, 'lottery': 3143, 'ticket': 5242, 'cast': 897, 'characters': 949, 'stroke': 4934, 'vestibule': 5565, '64g': 125, 'replenished': 4295, 'presos': 4009, 'uncertainty': 5451, 'telegraph': 5144, 'semi': 4538, 'justsayin': 2891, 'upon': 5503, 'illa': 2629, '360': 88, 'panorama': 3747, 'nba': 3491, 'courtside': 1237, 'itwillbemine': 2825, 'certificate': 930, 'nonprofit': 3560, 'nonprofits': 3561, 'ipad2time': 2790, 'frustration': 2127, 'glued': 2256, 'resonance': 4310, 'marisa': 3240, 'mater': 3265, 'hotspot': 2565, 'idk': 2616, 'newtrent': 3531, 'imp1000': 2646, 'unpaid': 5481, 'drupalcon': 1631, 'firstworldproblems': 2003, 'ihop': 2627, 'excitement': 1830, 'buggy': 803, 'lately': 2986, 'custome': 1322, 'blackbook': 672, 'advent': 240, 'accessible': 184, 'ebooks': 1672, 'generations': 2209, 'landmark': 2971, 'blind': 679, 'unbelievable': 5448, 'recorder': 4226, 'reddit': 4237, 'moonshine': 3422, 'hr': 2576, 'squeal': 4849, 'virginity': 5587, 'åçwhat': 5905, 'turns': 5398, 'douchebag': 1594, 'gawking': 2184, 'futurecast': 2147, 'champ': 938, 'imanidiot': 2640, 'oooh': 3646, 'recycled': 4232, 'skateboards': 4676, 'damm': 1342, 'captain': 873, 'penguin': 3815, 'pengairborne': 3814, 'takin': 5089, 'mic': 3329, 'brother': 787, 'acceptable': 181, 'warmth': 5648, 'upset': 5506, 'installs': 2734, 'visitors': 5595, 'tattooed': 5105, 'sketchy': 4679, 'bite': 666, 'fleets': 2022, 'armed': 428, 'swoon': 5024, 'nerdcore': 3504, 'idol': 2617, 'ingenious': 2703, 'ireports': 2807, 'brilliance': 773, '5th': 123, '200': 53, 'bart': 570, 'retweeting': 4336, 'jeanne': 2842, 'retweet': 4335, 'uppward': 5504, 'jerk': 2847, 'awe': 516, 'jetsons': 2851, 'crack': 1249, 'facist': 1887, 'switches': 5023, 'does': 1560, 'glowing': 2255, 'cups': 1312, 'units': 5469, 'comfortable': 1094, 'tricked': 5359, 'birthday': 664, 'net': 3511, 'flap': 2015, 'peeked': 3808, 'did': 1480, 'journalists': 2871, 'afford': 248, 'bother': 726, 'scheduler': 4479, 'hipstapaks': 2500, 'austinwins': 487, '2am': 66, 'disrupt': 1534, 'riding': 4362, '210': 59, 'unveiled': 5489, 'jet': 2849, 'betainvites': 641, '1m': 48, 'ea1zgd': 1648, 'breakthrough': 761, 'activations': 204, 'mission': 3372, 'haiti': 2393, 'executing': 1836, 'jose': 2868, 'bff': 649, 'bernd': 634, 'florian': 2033, 'guguchu': 2364, 'terminal': 5163, 'compete': 1115, 'patience': 3787, 'douchebaggery': 1595, 'kenny': 2908, 'enjoys': 1749, 'spanking': 4805, 'urinal': 5510, 'sweepstakes': 5015, 'tattoo': 5104, 'chalked': 934, 'pavement': 3791, 'applefanatic': 398, 'toolkit': 5296, 'bike': 655, 'rei': 4257, 'sxswtoolkit': 5059, 'digging': 1493, 'craps': 1256, 'rematch': 4282, 'omaha': 3633, 'seemed': 4521, 'offering': 3614, 'anyways': 375, 'logical': 3115, 'progression': 4048, 'intriguing': 2764, 'chatter': 962, 'introducing': 2768, 'affair': 246, 'print': 4023, 'cuts': 1328, 'bugs': 804, 'sweets': 5017, 'economies': 1677, 'continual': 1176, 'pgi': 3838, 'borrow': 722, '82': 139, 'choose': 994, 'awhile': 521, 'visualisation': 5598, 'ghost': 2224, 'movement': 3439, 'pacman': 3725, 'rebecca': 4204, 'distribution': 1540, 'recipient': 4214, 'ungrateful': 5464, 'with': 5753, 'sheeple': 4595, 'gesture': 2218, 'ahem': 266, 'mounts': 3436, 'journal': 2870, 'momento': 3404, '59p': 119, '99å': 156, 'catfight': 903, 'patented': 3785, 'notch': 3567, 'stellar': 4889, 'smooth': 4731, 'showusyouricrazy': 4635, 'eff': 1691, 'reliving': 4279, 'completes': 1123, 'letters': 3043, 'ben': 627, 'benieuwd': 629, 'indicates': 2686, 'widgets': 5718, 'tube': 5385, 'his': 2507, 'hint': 2496, 'heavens': 2463, 'travelers': 5350, 'delayed': 1409, 'passenger': 3776, 'girlcrush': 2236, 'shortly': 4619, 'overshadowing': 3707, 'arrives': 432, 'porting': 3951, 'syncing': 5069, '3k': 94, 'while': 5703, 'hpsxsw': 2575, 'rescuing': 4306, 'envisioning': 1766, 'broadcast': 783, 'area': 420, 'auntie': 481, 'voxpop': 5612, 'channel': 946, 'volunteers': 5609, '45am': 103, 'alt': 309, 'universe': 5470, 'fastest': 1924, 'reach': 4181, 'mxm': 3472, 'firm': 2001, 'goer': 2263, 'halls': 2397, 'bicycle': 651, 'cursing': 1319, 'losing': 3139, 'zzzs': 5897, 'sitby': 4669, 'include': 2676, 'hollow': 2528, 'freemusic': 2103, 'teeny': 5142, 'steady': 4884, 'winamp': 5731, 'direct': 1503, 'quarters': 4127, 'extenders': 1869, 'tight': 5247, 'endeavor': 1731, 'ummmm': 5441, 'djroe': 1547, 'chances': 940, 'lookin': 3128, 'north': 3565, 'apartment': 380, 'wires': 5747, 'livetapp': 3096, 'raffling': 4154, 'thirsty': 5214, 'walkin': 5631, 'yelping': 5853, 'the_daily': 5184, 'appear': 390, 'festivalexplorer': 1963, 'solves': 4772, 'musica': 3462, 'musiek': 3465, 'musique': 3467, 'musik': 3466, 'ù_¾': 5910, 'captured': 875, 'lessons': 3038, 'sheen': 4594, 'spider': 4825, 'bryce': 795, 'manor': 3225, '99': 155, 'cents': 923, 'pdx': 3802, 'epicenter': 1769, 'settle': 4566, 'argument': 424, 'parentheses': 3758, 'wordnerd': 5784, 'mifi': 3340, 'solid': 4768, 'resource': 4311, 'tenets': 5159, 'newly': 3524, 'traveling': 5351, 'impedimenta': 2650, 'photosharing': 3847, 'ck': 1015, 'culture': 1307, 'documented': 1556, 'geekest': 2197, 'hidden': 2484, 'sorted': 4792, 'appealing': 389, 'adapt': 213, 'overcome': 3699, 'creativity': 1276, 'prompt': 4057, 'virtually': 5589, 'panelist': 3740, 'grew': 2329, 'mins': 3363, 'wut': 5825, 'francisco': 2095, 'sfo': 4575, 'legacy': 3028, 'extras': 1873, 'breeds': 764, 'midst': 3338, 'mar': 3234, 'favorited': 1932, 'doo': 1583, 'dah': 1335, 'pushio': 4103, 'amazon': 320, 'tmrw': 5275, 'tweetcaster': 5406, 'zip': 5890, 'keywords': 2913, 'hashtag': 2427, 'padless': 3726, 'bmm': 699, 'sxswmymistake': 5052, 'gathering': 2182, 'grown': 2348, 'men': 3310, 'hooting': 2546, 'cords': 1211, 'princess': 4021, 'papyrus': 3754, 'sort': 4790, 'lavelle': 3001, 'playstation': 3906, 'xbox': 5829, 'essentially': 1783, 'stabilizer': 4853}\n"
     ]
    }
   ],
   "source": [
    "# summarize\n",
    "print(vectorizer.vocabulary_)"
   ]
  },
  {
   "cell_type": "code",
   "execution_count": 19,
   "metadata": {},
   "outputs": [],
   "source": [
    "vector = vectorizer.transform(df_tweets1[\"text\"])"
   ]
  },
  {
   "cell_type": "code",
   "execution_count": 20,
   "metadata": {},
   "outputs": [
    {
     "name": "stdout",
     "output_type": "stream",
     "text": [
      "<class 'scipy.sparse.csr.csr_matrix'>\n",
      "[[0 0 0 ... 0 0 0]\n",
      " [0 0 0 ... 0 0 0]\n",
      " [0 0 0 ... 0 0 0]\n",
      " ...\n",
      " [0 0 0 ... 0 0 0]\n",
      " [0 0 0 ... 0 0 0]\n",
      " [0 0 0 ... 0 0 0]]\n"
     ]
    }
   ],
   "source": [
    "print(type(vector))\n",
    "print(vector.toarray())"
   ]
  },
  {
   "cell_type": "markdown",
   "metadata": {
    "colab_type": "text",
    "id": "5pxd5fSHH0Nt"
   },
   "source": [
    "### 5. Find number of different words in vocabulary"
   ]
  },
  {
   "cell_type": "code",
   "execution_count": 21,
   "metadata": {
    "colab": {},
    "colab_type": "code",
    "id": "p1DQ2LdNH0Nu"
   },
   "outputs": [
    {
     "data": {
      "text/plain": [
       "5933"
      ]
     },
     "execution_count": 21,
     "metadata": {},
     "output_type": "execute_result"
    }
   ],
   "source": [
    "len(vectorizer.get_feature_names())"
   ]
  },
  {
   "cell_type": "markdown",
   "metadata": {
    "colab_type": "text",
    "id": "dwtgjTBeH0Ny"
   },
   "source": [
    "#### Tip: To see all available functions for an Object use dir"
   ]
  },
  {
   "cell_type": "markdown",
   "metadata": {
    "colab_type": "text",
    "id": "ShA6D8jKH0N5"
   },
   "source": [
    "### 6. Find out how many Positive and Negative emotions are there.\n",
    "\n",
    "Hint: Use value_counts on that column"
   ]
  },
  {
   "cell_type": "code",
   "execution_count": 22,
   "metadata": {
    "colab": {},
    "colab_type": "code",
    "id": "q7LAl5pzH0N6"
   },
   "outputs": [
    {
     "data": {
      "text/plain": [
       "Positive emotion    2978\n",
       "Negative emotion     570\n",
       "Name: is_there_an_emotion_directed_at_a_brand_or_product, dtype: int64"
      ]
     },
     "execution_count": 22,
     "metadata": {},
     "output_type": "execute_result"
    }
   ],
   "source": [
    "df_tweets1[emotion_colname].value_counts()"
   ]
  },
  {
   "cell_type": "markdown",
   "metadata": {
    "colab_type": "text",
    "id": "IUvgj0FoH0N9"
   },
   "source": [
    "### 7. Change the labels for Positive and Negative emotions as 1 and 0 respectively and store in a different column in the same dataframe named 'Label'\n",
    "\n",
    "Hint: use map on that column and give labels"
   ]
  },
  {
   "cell_type": "code",
   "execution_count": 23,
   "metadata": {
    "colab": {},
    "colab_type": "code",
    "id": "YftKwFv7H0N9"
   },
   "outputs": [
    {
     "name": "stderr",
     "output_type": "stream",
     "text": [
      "<ipython-input-23-36395c1f6296>:1: SettingWithCopyWarning: \n",
      "A value is trying to be set on a copy of a slice from a DataFrame.\n",
      "Try using .loc[row_indexer,col_indexer] = value instead\n",
      "\n",
      "See the caveats in the documentation: https://pandas.pydata.org/pandas-docs/stable/user_guide/indexing.html#returning-a-view-versus-a-copy\n",
      "  df_tweets1[\"Label\"] = df_tweets1[emotion_colname].map({'Positive emotion': 1, 'Negative emotion': 0})\n"
     ]
    }
   ],
   "source": [
    "df_tweets1[\"Label\"] = df_tweets1[emotion_colname].map({'Positive emotion': 1, 'Negative emotion': 0})"
   ]
  },
  {
   "cell_type": "code",
   "execution_count": 24,
   "metadata": {},
   "outputs": [
    {
     "data": {
      "text/html": [
       "<div>\n",
       "<style scoped>\n",
       "    .dataframe tbody tr th:only-of-type {\n",
       "        vertical-align: middle;\n",
       "    }\n",
       "\n",
       "    .dataframe tbody tr th {\n",
       "        vertical-align: top;\n",
       "    }\n",
       "\n",
       "    .dataframe thead th {\n",
       "        text-align: right;\n",
       "    }\n",
       "</style>\n",
       "<table border=\"1\" class=\"dataframe\">\n",
       "  <thead>\n",
       "    <tr style=\"text-align: right;\">\n",
       "      <th></th>\n",
       "      <th>tweet_text</th>\n",
       "      <th>emotion_in_tweet_is_directed_at</th>\n",
       "      <th>is_there_an_emotion_directed_at_a_brand_or_product</th>\n",
       "      <th>text</th>\n",
       "      <th>Label</th>\n",
       "    </tr>\n",
       "  </thead>\n",
       "  <tbody>\n",
       "    <tr>\n",
       "      <th>0</th>\n",
       "      <td>.@wesley83 I have a 3G iPhone. After 3 hrs twe...</td>\n",
       "      <td>iPhone</td>\n",
       "      <td>Negative emotion</td>\n",
       "      <td>3G iPhone. 3 hrs tweeting #RISE_Austin , dead ...</td>\n",
       "      <td>0</td>\n",
       "    </tr>\n",
       "    <tr>\n",
       "      <th>1</th>\n",
       "      <td>@jessedee Know about @fludapp ? Awesome iPad/i...</td>\n",
       "      <td>iPad or iPhone App</td>\n",
       "      <td>Positive emotion</td>\n",
       "      <td>Know ? Awesome iPad/iPhone app ' likely apprec...</td>\n",
       "      <td>1</td>\n",
       "    </tr>\n",
       "  </tbody>\n",
       "</table>\n",
       "</div>"
      ],
      "text/plain": [
       "                                          tweet_text  \\\n",
       "0  .@wesley83 I have a 3G iPhone. After 3 hrs twe...   \n",
       "1  @jessedee Know about @fludapp ? Awesome iPad/i...   \n",
       "\n",
       "  emotion_in_tweet_is_directed_at  \\\n",
       "0                          iPhone   \n",
       "1              iPad or iPhone App   \n",
       "\n",
       "  is_there_an_emotion_directed_at_a_brand_or_product  \\\n",
       "0                                   Negative emotion   \n",
       "1                                   Positive emotion   \n",
       "\n",
       "                                                text  Label  \n",
       "0  3G iPhone. 3 hrs tweeting #RISE_Austin , dead ...      0  \n",
       "1  Know ? Awesome iPad/iPhone app ' likely apprec...      1  "
      ]
     },
     "execution_count": 24,
     "metadata": {},
     "output_type": "execute_result"
    }
   ],
   "source": [
    "df_tweets1.head(2)"
   ]
  },
  {
   "cell_type": "markdown",
   "metadata": {
    "colab_type": "text",
    "id": "3YErwYLCH0N_"
   },
   "source": [
    "### 8 Define the feature set (independent variable or X) to be `text` column and `labels` as target (or dependent variable)  and divide into train and test datasets"
   ]
  },
  {
   "cell_type": "code",
   "execution_count": 25,
   "metadata": {
    "colab": {},
    "colab_type": "code",
    "id": "lNkwrGgEH0OA"
   },
   "outputs": [],
   "source": [
    "df_features = vector.toarray()\n",
    "df_target = df_tweets1[\"Label\"]"
   ]
  },
  {
   "cell_type": "code",
   "execution_count": 26,
   "metadata": {},
   "outputs": [],
   "source": [
    "from sklearn.model_selection import train_test_split\n",
    "test_size = 0.30 # taking 70:30 training and test set\n",
    "seed = 7  # Random numbmer seeding for reapeatability of the code\n",
    "X_train, X_test, y_train, y_test = train_test_split(df_features, df_target, test_size=test_size, random_state=seed)"
   ]
  },
  {
   "cell_type": "markdown",
   "metadata": {
    "colab_type": "text",
    "id": "Q5nlCuaaH0OD"
   },
   "source": [
    "## 9. **Predicting the sentiment:**\n",
    "\n",
    "\n"
   ]
  },
  {
   "cell_type": "code",
   "execution_count": 27,
   "metadata": {},
   "outputs": [],
   "source": [
    "from sklearn.linear_model import LogisticRegression\n",
    "from sklearn.naive_bayes import GaussianNB\n",
    "from sklearn import metrics"
   ]
  },
  {
   "cell_type": "code",
   "execution_count": 28,
   "metadata": {
    "colab": {},
    "colab_type": "code",
    "id": "2AbVYssaH0OE"
   },
   "outputs": [
    {
     "name": "stdout",
     "output_type": "stream",
     "text": [
      "Logistic Regression: Accuracy Score\n",
      " 0.8704225352112676\n",
      "Naive Bayes: Accuracy Score\n",
      " 0.7887323943661971\n"
     ]
    }
   ],
   "source": [
    "# Logistic Regression\n",
    "lr_model = LogisticRegression()\n",
    "lr_model.fit(X_train, y_train)\n",
    "lr_model_score = lr_model.score(X_test, y_test) # get the accuracy score for testing samples\n",
    "print(\"Logistic Regression: Accuracy Score\\n\" , lr_model_score)\n",
    "\n",
    "# Naive Bayes\n",
    "nb_model = GaussianNB()\n",
    "nb_model.fit(X_train, y_train)\n",
    "nb_model_score = nb_model.score(X_test, y_test) # get the accuracy score for testing samples\n",
    "print(\"Naive Bayes: Accuracy Score\\n\" , nb_model_score)\n"
   ]
  },
  {
   "cell_type": "code",
   "execution_count": 29,
   "metadata": {},
   "outputs": [
    {
     "name": "stdout",
     "output_type": "stream",
     "text": [
      "Logistic Regression: Classification Report: \n",
      "\n",
      "               precision    recall  f1-score   support\n",
      "\n",
      "           0       0.72      0.32      0.44       172\n",
      "           1       0.88      0.98      0.93       893\n",
      "\n",
      "    accuracy                           0.87      1065\n",
      "   macro avg       0.80      0.65      0.69      1065\n",
      "weighted avg       0.86      0.87      0.85      1065\n",
      "\n"
     ]
    }
   ],
   "source": [
    "y_predict = lr_model.predict(X_test)\n",
    "cr = metrics.classification_report(y_test,y_predict)\n",
    "print(\"Logistic Regression: Classification Report: \\n\\n\", cr)"
   ]
  },
  {
   "cell_type": "code",
   "execution_count": 30,
   "metadata": {},
   "outputs": [
    {
     "name": "stdout",
     "output_type": "stream",
     "text": [
      "Naive Bayes: Classification Report: \n",
      "\n",
      "               precision    recall  f1-score   support\n",
      "\n",
      "           0       0.38      0.49      0.43       172\n",
      "           1       0.90      0.85      0.87       893\n",
      "\n",
      "    accuracy                           0.79      1065\n",
      "   macro avg       0.64      0.67      0.65      1065\n",
      "weighted avg       0.81      0.79      0.80      1065\n",
      "\n"
     ]
    }
   ],
   "source": [
    "y_predict = nb_model.predict(X_test)\n",
    "cr = metrics.classification_report(y_test,y_predict)\n",
    "print(\"Naive Bayes: Classification Report: \\n\\n\", cr)"
   ]
  },
  {
   "cell_type": "code",
   "execution_count": null,
   "metadata": {},
   "outputs": [],
   "source": [
    "from sklearn.svm import SVC\n",
    "from sklearn.model_selection import GridSearchCV\n",
    "parameters = {'kernel': ['rbf','sigmoid','linear'],\n",
    "              'C': [0.1,1,10,100],\n",
    "              'gamma': [0.01, 0.1, 1],\n",
    "             }\n",
    "\n",
    "svc = SVC()\n",
    "model = GridSearchCV(svc, param_grid=parameters, cv=2)\n",
    "model.fit(X_train, y_train)"
   ]
  },
  {
   "cell_type": "code",
   "execution_count": null,
   "metadata": {},
   "outputs": [],
   "source": [
    "model.best_params_"
   ]
  },
  {
   "cell_type": "code",
   "execution_count": 31,
   "metadata": {},
   "outputs": [
    {
     "name": "stdout",
     "output_type": "stream",
     "text": [
      "              precision    recall  f1-score   support\n",
      "\n",
      "           0       0.81      0.30      0.43       172\n",
      "           1       0.88      0.99      0.93       893\n",
      "\n",
      "    accuracy                           0.88      1065\n",
      "   macro avg       0.84      0.64      0.68      1065\n",
      "weighted avg       0.87      0.88      0.85      1065\n",
      "\n"
     ]
    }
   ],
   "source": [
    "from sklearn.svm import SVC\n",
    "svc = SVC(kernel='rbf', C=10, gamma=0.1)\n",
    "svc.fit(X_train, y_train)\n",
    "y_pred = svc.predict(X_test)\n",
    "print(metrics.classification_report(y_test, y_pred))"
   ]
  }
 ],
 "metadata": {
  "accelerator": "GPU",
  "colab": {
   "collapsed_sections": [],
   "name": "R8_Internal_Lab_Questions.ipynb",
   "provenance": [],
   "version": "0.3.2"
  },
  "kernelspec": {
   "display_name": "Python 3",
   "language": "python",
   "name": "python3"
  },
  "language_info": {
   "codemirror_mode": {
    "name": "ipython",
    "version": 3
   },
   "file_extension": ".py",
   "mimetype": "text/x-python",
   "name": "python",
   "nbconvert_exporter": "python",
   "pygments_lexer": "ipython3",
   "version": "3.8.5"
  }
 },
 "nbformat": 4,
 "nbformat_minor": 1
}
